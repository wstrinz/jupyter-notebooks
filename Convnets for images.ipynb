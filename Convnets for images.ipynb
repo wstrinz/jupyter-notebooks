{
 "cells": [
  {
   "cell_type": "code",
   "execution_count": 1,
   "metadata": {
    "collapsed": false
   },
   "outputs": [],
   "source": [
    "require 'torch'\n",
    "require 'nn'\n",
    "-- cltorch.setDevice(1)"
   ]
  },
  {
   "cell_type": "code",
   "execution_count": 21,
   "metadata": {
    "collapsed": true
   },
   "outputs": [],
   "source": [
    "trainset = torch.load('cifar10-train.t7')\n",
    "testset = torch.load('cifar10-test.t7')\n",
    "classes = {'airplane', 'automobile', 'bird', 'cat',\n",
    "           'deer', 'dog', 'frog', 'horse', 'ship', 'truck'}"
   ]
  },
  {
   "cell_type": "code",
   "execution_count": 22,
   "metadata": {
    "collapsed": false
   },
   "outputs": [],
   "source": [
    "setmetatable(trainset, \n",
    "    {__index = function(t, i) \n",
    "                    return {t.data[i], t.label[i]} \n",
    "                end}\n",
    ");\n",
    "trainset.data = trainset.data:double() -- convert the data from a ByteTensor to a DoubleTensor.\n",
    "\n",
    "function trainset:size() \n",
    "    return self.data:size(1) \n",
    "end"
   ]
  },
  {
   "cell_type": "code",
   "execution_count": 23,
   "metadata": {
    "collapsed": false
   },
   "outputs": [
    {
     "data": {
      "text/plain": [
       "Channel 1, Mean: 125.83175029297\t\n"
      ]
     },
     "execution_count": 23,
     "metadata": {},
     "output_type": "execute_result"
    },
    {
     "data": {
      "text/plain": [
       "Channel 1, Standard Deviation: 63.143400842609\t\n"
      ]
     },
     "execution_count": 23,
     "metadata": {},
     "output_type": "execute_result"
    },
    {
     "data": {
      "text/plain": [
       "Channel 2, Mean: 123.26066621094\t\n"
      ]
     },
     "execution_count": 23,
     "metadata": {},
     "output_type": "execute_result"
    },
    {
     "data": {
      "text/plain": [
       "Channel 2, Standard Deviation: 62.369209019002\t\n"
      ]
     },
     "execution_count": 23,
     "metadata": {},
     "output_type": "execute_result"
    },
    {
     "data": {
      "text/plain": [
       "Channel 3, Mean: 114.03068681641\t\n"
      ]
     },
     "execution_count": 23,
     "metadata": {},
     "output_type": "execute_result"
    },
    {
     "data": {
      "text/plain": [
       "Channel 3, Standard Deviation: 66.965808411114\t\n"
      ]
     },
     "execution_count": 23,
     "metadata": {},
     "output_type": "execute_result"
    }
   ],
   "source": [
    "mean = {} -- store the mean, to normalize the test set in the future\n",
    "stdv  = {} -- store the standard-deviation for the future\n",
    "for i=1,3 do -- over each image channel\n",
    "    mean[i] = trainset.data[{ {}, {i}, {}, {}  }]:mean() -- mean estimation\n",
    "    print('Channel ' .. i .. ', Mean: ' .. mean[i])\n",
    "    trainset.data[{ {}, {i}, {}, {}  }]:add(-mean[i]) -- mean subtraction\n",
    "    \n",
    "    stdv[i] = trainset.data[{ {}, {i}, {}, {}  }]:std() -- std estimation\n",
    "    print('Channel ' .. i .. ', Standard Deviation: ' .. stdv[i])\n",
    "    trainset.data[{ {}, {i}, {}, {}  }]:div(stdv[i]) -- std scaling\n",
    "end"
   ]
  },
  {
   "cell_type": "code",
   "execution_count": 24,
   "metadata": {
    "collapsed": false
   },
   "outputs": [],
   "source": [
    "criterion = nn.ClassNLLCriterion()"
   ]
  },
  {
   "cell_type": "code",
   "execution_count": 25,
   "metadata": {
    "collapsed": false
   },
   "outputs": [],
   "source": [
    "net = nn.Sequential()\n",
    "net:add(nn.SpatialConvolution(3, 6, 5, 5)) -- 3 input image channels, 6 output channels, 5x5 convolution kernel\n",
    "net:add(nn.SpatialMaxPooling(2,2,2,2))     -- A max-pooling operation that looks at 2x2 windows and finds the max.\n",
    "net:add(nn.SpatialConvolution(6, 16, 5, 5))\n",
    "net:add(nn.SpatialMaxPooling(2,2,2,2))\n",
    "net:add(nn.View(16*5*5))                    -- reshapes from a 3D tensor of 16x5x5 into 1D tensor of 16*5*5\n",
    "net:add(nn.Linear(16*5*5, 120))             -- fully connected layer (matrix multiplication between input and weights)\n",
    "net:add(nn.Linear(120, 84))\n",
    "net:add(nn.Linear(84, 10))                   -- 10 is the number of outputs of the network (in this case, 10 digits)\n",
    "net:add(nn.LogSoftMax())            -- converts the output to a log-probability. Useful for classification problems"
   ]
  },
  {
   "cell_type": "code",
   "execution_count": 26,
   "metadata": {
    "collapsed": true
   },
   "outputs": [],
   "source": [
    "trainer = nn.StochasticGradient(net, criterion)\n",
    "trainer.learningRate = 0.001\n",
    "trainer.maxIteration = 10 -- just do 5 epochs of training."
   ]
  },
  {
   "cell_type": "code",
   "execution_count": 12,
   "metadata": {
    "collapsed": false
   },
   "outputs": [
    {
     "data": {
      "text/plain": [
       "# StochasticGradient: training\t\n"
      ]
     },
     "execution_count": 12,
     "metadata": {},
     "output_type": "execute_result"
    },
    {
     "data": {
      "text/plain": [
       "# current error = 1.3589245728829\t\n"
      ]
     },
     "execution_count": 12,
     "metadata": {},
     "output_type": "execute_result"
    },
    {
     "data": {
      "text/plain": [
       "# current error = 1.2236006252783\t\n"
      ]
     },
     "execution_count": 12,
     "metadata": {},
     "output_type": "execute_result"
    },
    {
     "data": {
      "text/plain": [
       "# current error = 1.1696295787381\t\n"
      ]
     },
     "execution_count": 12,
     "metadata": {},
     "output_type": "execute_result"
    },
    {
     "data": {
      "text/plain": [
       "# current error = 1.1304611639669\t\n"
      ]
     },
     "execution_count": 12,
     "metadata": {},
     "output_type": "execute_result"
    },
    {
     "data": {
      "text/plain": [
       "# current error = 1.1000444253265\t\n"
      ]
     },
     "execution_count": 12,
     "metadata": {},
     "output_type": "execute_result"
    },
    {
     "data": {
      "text/plain": [
       "# current error = 1.0752683183694\t\n"
      ]
     },
     "execution_count": 12,
     "metadata": {},
     "output_type": "execute_result"
    },
    {
     "data": {
      "text/plain": [
       "# current error = 1.0546417504603\t\n"
      ]
     },
     "execution_count": 12,
     "metadata": {},
     "output_type": "execute_result"
    },
    {
     "data": {
      "text/plain": [
       "# current error = 1.0364408726091\t\n"
      ]
     },
     "execution_count": 12,
     "metadata": {},
     "output_type": "execute_result"
    },
    {
     "data": {
      "text/plain": [
       "# current error = 1.0201431006085\t\n"
      ]
     },
     "execution_count": 12,
     "metadata": {},
     "output_type": "execute_result"
    },
    {
     "data": {
      "text/plain": [
       "# current error = 1.0057477166476\t\n",
       "# StochasticGradient: you have reached the maximum number of iterations\t\n",
       "# training error = 1.0057477166476\t\n",
       "\n"
      ]
     },
     "execution_count": 12,
     "metadata": {},
     "output_type": "execute_result"
    }
   ],
   "source": [
    "trainer:train(trainset)"
   ]
  },
  {
   "cell_type": "code",
   "execution_count": 10,
   "metadata": {
    "collapsed": false
   },
   "outputs": [
    {
     "data": {
      "text/plain": [
       "# StochasticGradient: training\t\n"
      ]
     },
     "execution_count": 10,
     "metadata": {},
     "output_type": "execute_result"
    },
    {
     "data": {
      "text/plain": [
       "# current error = 1.9185616099941\t\n"
      ]
     },
     "execution_count": 10,
     "metadata": {},
     "output_type": "execute_result"
    },
    {
     "data": {
      "text/plain": [
       "# current error = 1.8639897349481\t\n"
      ]
     },
     "execution_count": 10,
     "metadata": {},
     "output_type": "execute_result"
    },
    {
     "data": {
      "text/plain": [
       "# current error = 1.8480868440084\t\n"
      ]
     },
     "execution_count": 10,
     "metadata": {},
     "output_type": "execute_result"
    },
    {
     "data": {
      "text/plain": [
       "# current error = 1.8505400324231\t\n"
      ]
     },
     "execution_count": 10,
     "metadata": {},
     "output_type": "execute_result"
    },
    {
     "data": {
      "text/plain": [
       "# current error = 1.843332010884\t\n",
       "# StochasticGradient: you have reached the maximum number of iterations\t\n",
       "# training error = 1.843332010884\t\n",
       "\n"
      ]
     },
     "execution_count": 10,
     "metadata": {},
     "output_type": "execute_result"
    }
   ],
   "source": [
    "trainer:train(trainset)"
   ]
  },
  {
   "cell_type": "code",
   "execution_count": 27,
   "metadata": {
    "collapsed": true
   },
   "outputs": [],
   "source": [
    "testset.data = testset.data:double()   -- convert from Byte tensor to Double tensor\n",
    "for i=1,3 do -- over each image channel\n",
    "    testset.data[{ {}, {i}, {}, {}  }]:add(-mean[i]) -- mean subtraction    \n",
    "    testset.data[{ {}, {i}, {}, {}  }]:div(stdv[i]) -- std scaling\n",
    "end"
   ]
  },
  {
   "cell_type": "code",
   "execution_count": 28,
   "metadata": {
    "collapsed": false
   },
   "outputs": [
    {
     "data": {
      "text/plain": [
       "cat\t\n"
      ]
     },
     "execution_count": 28,
     "metadata": {},
     "output_type": "execute_result"
    },
    {
     "data": {
      "image/png": "[encoded data removed]",
      "text/plain": [
       "Console does not support images"
      ]
     },
     "metadata": {
      "image/png": {
       "height": 32,
       "width": 32
      }
     },
     "output_type": "display_data"
    },
    {
     "data": {
      "text/plain": [
       "airplane\t-2.2607616362304\t\n",
       "automobile\t-2.2591948798227\t\n",
       "bird\t-2.4056875493871\t\n",
       "cat\t-2.2200501754549\t\n",
       "deer\t-2.2818115048846\t\n",
       "dog\t-2.2440634159106\t\n",
       "frog\t-2.3221033707401\t\n",
       "horse\t-2.3391186260097\t\n",
       "ship\t-2.3438789970701\t\n",
       "truck\t-2.3652368553647\t\n",
       "ship\t\n"
      ]
     },
     "execution_count": 28,
     "metadata": {},
     "output_type": "execute_result"
    },
    {
     "data": {
      "image/png": "[encoded data removed]",
      "text/plain": [
       "Console does not support images"
      ]
     },
     "metadata": {
      "image/png": {
       "height": 32,
       "width": 32
      }
     },
     "output_type": "display_data"
    },
    {
     "data": {
      "text/plain": [
       "airplane\t-2.2069371694499\t\n",
       "automobile\t-2.2597662602287\t\n",
       "bird\t-2.3443457321722\t\n",
       "cat\t-2.2061078158747\t\n"
      ]
     },
     "execution_count": 28,
     "metadata": {},
     "output_type": "execute_result"
    },
    {
     "data": {
      "text/plain": [
       "deer\t-2.3295822518698\t\n",
       "dog\t-2.1888694604522\t\n",
       "frog\t-2.4490895003536\t\n",
       "horse\t-2.3193758353375\t\n",
       "ship\t-2.4150947456584\t\n",
       "truck\t-2.3423262186397\t\n",
       "ship\t\n"
      ]
     },
     "execution_count": 28,
     "metadata": {},
     "output_type": "execute_result"
    },
    {
     "data": {
      "image/png": "[encoded data removed]",
      "text/plain": [
       "Console does not support images"
      ]
     },
     "metadata": {
      "image/png": {
       "height": 32,
       "width": 32
      }
     },
     "output_type": "display_data"
    },
    {
     "data": {
      "text/plain": [
       "airplane\t-2.2395767133471\t\n",
       "automobile\t-2.2553846376028\t\n",
       "bird\t-2.3772481548522\t\n",
       "cat\t-2.2412660192815\t\n",
       "deer\t-2.2741069827577\t\n",
       "dog\t-2.2489423093966\t\n",
       "frog\t-2.3559797305465\t\n",
       "horse\t-2.2939947627692\t\n",
       "ship\t-2.3811797704653\t\n",
       "truck\t-2.3748385755185\t\n",
       "airplane\t\n"
      ]
     },
     "execution_count": 28,
     "metadata": {},
     "output_type": "execute_result"
    },
    {
     "data": {
      "image/png": "[encoded data removed]",
      "text/plain": [
       "Console does not support images"
      ]
     },
     "metadata": {
      "image/png": {
       "height": 32,
       "width": 32
      }
     },
     "output_type": "display_data"
    },
    {
     "data": {
      "text/plain": [
       "airplane\t-2.2632705644252\t\n",
       "automobile\t-2.2157213094752\t\n",
       "bird\t-2.3663722722235\t\n",
       "cat\t-2.181888732412\t\n",
       "deer\t-2.2652088175178\t\n",
       "dog\t-2.2964405457871\t\n",
       "frog\t-2.3609326862141\t\n",
       "horse\t-2.3472436925757\t\n",
       "ship\t-2.3878446146331\t\n",
       "truck\t-2.36392814382\t\n",
       "frog\t\n"
      ]
     },
     "execution_count": 28,
     "metadata": {},
     "output_type": "execute_result"
    },
    {
     "data": {
      "image/png": "[encoded data removed]",
      "text/plain": [
       "Console does not support images"
      ]
     },
     "metadata": {
      "image/png": {
       "height": 32,
       "width": 32
      }
     },
     "output_type": "display_data"
    },
    {
     "data": {
      "text/plain": [
       "airplane\t-2.2081326779512\t\n",
       "automobile\t-2.259753180643\t\n",
       "bird\t-2.3703897809898\t\n",
       "cat\t-2.2159050403987\t\n",
       "deer\t-2.3600421144995\t\n",
       "dog\t-2.2955379320901\t\n",
       "frog\t-2.3184079055652\t\n",
       "horse\t"
      ]
     },
     "execution_count": 28,
     "metadata": {},
     "output_type": "execute_result"
    },
    {
     "data": {
      "text/plain": [
       "-2.3149729772999\t\n",
       "ship\t-2.3723630951716\t\n",
       "truck\t-2.3265044550922\t\n",
       "frog\t\n"
      ]
     },
     "execution_count": 28,
     "metadata": {},
     "output_type": "execute_result"
    },
    {
     "data": {
      "image/png": "[encoded data removed]",
      "text/plain": [
       "Console does not support images"
      ]
     },
     "metadata": {
      "image/png": {
       "height": 32,
       "width": 32
      }
     },
     "output_type": "display_data"
    },
    {
     "data": {
      "text/plain": [
       "airplane\t-2.2405707093482\t\n",
       "automobile\t-2.1839889091318\t\n",
       "bird\t-2.4273125957433\t\n",
       "cat\t-2.1914661109388\t\n",
       "deer\t-2.2829381193769\t\n",
       "dog\t-2.2805533890792\t\n",
       "frog\t-2.330255907723\t\n",
       "horse\t-2.3941163439462\t\n",
       "ship\t-2.3429874208685\t\n",
       "truck\t-2.3837081796835\t\n",
       "automobile\t\n"
      ]
     },
     "execution_count": 28,
     "metadata": {},
     "output_type": "execute_result"
    },
    {
     "data": {
      "image/png": "[encoded data removed]",
      "text/plain": [
       "Console does not support images"
      ]
     },
     "metadata": {
      "image/png": {
       "height": 32,
       "width": 32
      }
     },
     "output_type": "display_data"
    },
    {
     "data": {
      "text/plain": [
       "airplane\t-2.2185663523217\t\n",
       "automobile\t-2.249701939899\t\n",
       "bird\t-2.4158400572962\t\n",
       "cat\t-2.230050901034\t\n",
       "deer\t-2.1801739432213\t\n",
       "dog\t-2.3250162900352\t\n",
       "frog\t-2.2895130659127\t\n",
       "horse\t-2.377350406983\t\n",
       "ship\t-2.3584345070354\t\n",
       "truck\t-2.4134564115954\t\n",
       "frog\t\n"
      ]
     },
     "execution_count": 28,
     "metadata": {},
     "output_type": "execute_result"
    },
    {
     "data": {
      "image/png": "[encoded data removed]",
      "text/plain": [
       "Console does not support images"
      ]
     },
     "metadata": {
      "image/png": {
       "height": 32,
       "width": 32
      }
     },
     "output_type": "display_data"
    },
    {
     "data": {
      "text/plain": [
       "airplane\t-2.2398125646272\t\n",
       "automobile\t-2.224252602784\t\n",
       "bird\t-2.3843059515923\t\n",
       "cat\t-2.1989588215922\t\n",
       "deer\t-2.3459485284589\t\n",
       "dog\t-2.2791641207316\t\n",
       "frog\t-2.3324846652883\t\n",
       "horse\t-2.2944832306796\t\n",
       "ship\t-2.349637585407\t\n",
       "truck\t-2.3979486186385\t\n",
       "cat\t\n"
      ]
     },
     "execution_count": 28,
     "metadata": {},
     "output_type": "execute_result"
    },
    {
     "data": {
      "image/png": "[encoded data removed]",
      "text/plain": [
       "Console does not support images"
      ]
     },
     "metadata": {
      "image/png": {
       "height": 32,
       "width": 32
      }
     },
     "output_type": "display_data"
    },
    {
     "data": {
      "text/plain": [
       "airplane\t-2.2725706284777\t\n",
       "automobile\t-2.2270358828512\t\n",
       "bird\t-2.3626019655349\t\n",
       "cat\t-2.1735237755706\t\n",
       "deer\t-2.3468825268618\t\n",
       "dog\t-2.2880853540647\t\n",
       "frog\t-2.3152003303764\t\n",
       "horse\t-2.3598128361683\t\n",
       "ship\t-2.3706384773309\t\n",
       "truck\t-2.3287058688136\t\n",
       "automobile\t\n"
      ]
     },
     "execution_count": 28,
     "metadata": {},
     "output_type": "execute_result"
    },
    {
     "data": {
      "image/png": "[encoded data removed]",
      "text/plain": [
       "Console does not support images"
      ]
     },
     "metadata": {
      "image/png": {
       "height": 32,
       "width": 32
      }
     },
     "output_type": "display_data"
    },
    {
     "data": {
      "text/plain": [
       "airplane\t-2.2182279213985\t\n",
       "automobile\t-2.2474278611487\t\n",
       "bird\t-2.3558936947739\t\n",
       "cat\t-2.24667586447\t\n",
       "deer\t-2.263954328191\t\n",
       "dog\t-2.2415095798363\t\n",
       "frog\t-2.4075006882777\t\n",
       "horse\t-2.3317908086878\t\n",
       "ship\t-2.3686054320578\t\n",
       "truck\t-2.3648947016497\t\n",
       "airplane\t\n"
      ]
     },
     "execution_count": 28,
     "metadata": {},
     "output_type": "execute_result"
    },
    {
     "data": {
      "image/png": "[encoded data removed]",
      "text/plain": [
       "Console does not support images"
      ]
     },
     "metadata": {
      "image/png": {
       "height": 32,
       "width": 32
      }
     },
     "output_type": "display_data"
    },
    {
     "data": {
      "text/plain": [
       "airplane\t-2.2494164756872\t\n",
       "automobile\t-2.2812273796274\t\n",
       "bird\t-2.3339361610402\t\n",
       "cat\t-2.2168107007284\t\n",
       "deer\t-2.2741487356978\t\n",
       "dog\t-2.3041998656311\t\n",
       "frog\t-2.333960845699\t\n",
       "horse\t-2.3260655443443\t\n",
       "ship\t-2.3564748424173\t\n",
       "truck\t-2.3597510729806\t\n",
       "truck\t\n"
      ]
     },
     "execution_count": 28,
     "metadata": {},
     "output_type": "execute_result"
    },
    {
     "data": {
      "image/png": "[encoded data removed]",
      "text/plain": [
       "Console does not support images"
      ]
     },
     "metadata": {
      "image/png": {
       "height": 32,
       "width": 32
      }
     },
     "output_type": "display_data"
    },
    {
     "data": {
      "text/plain": [
       "airplane\t-2.1996296463164\t\n",
       "automobile\t-2.2787021263079\t\n",
       "bird\t-2.3752721915271\t\n",
       "cat\t-2.1812896273024\t\n",
       "deer\t-2.2805277476271\t\n",
       "dog\t-2.2536162914289\t\n",
       "frog\t-2.3861145531085\t\n",
       "horse\t-2.340618722513\t\n",
       "ship\t-2.3719394395092\t\n",
       "truck\t-2.3854160043396\t\n",
       "dog\t\n"
      ]
     },
     "execution_count": 28,
     "metadata": {},
     "output_type": "execute_result"
    },
    {
     "data": {
      "image/png": "[encoded data removed]",
      "text/plain": [
       "Console does not support images"
      ]
     },
     "metadata": {
      "image/png": {
       "height": 32,
       "width": 32
      }
     },
     "output_type": "display_data"
    },
    {
     "data": {
      "text/plain": [
       "airplane\t-2.2586626263498\t\n",
       "automobile\t-2.2629413203973\t\n",
       "bird\t-2.4065641586351\t\n",
       "cat\t-2.2185661947809\t\n",
       "deer\t-2.3230926391059\t\n",
       "dog\t-2.2520595639734\t"
      ]
     },
     "execution_count": 28,
     "metadata": {},
     "output_type": "execute_result"
    },
    {
     "data": {
      "text/plain": [
       "\n",
       "frog\t-2.2670587973538\t\n",
       "horse\t-2.3535736970277\t\n",
       "ship\t-2.3670609790899\t\n",
       "truck\t-2.3328104723136\t\n",
       "horse\t\n"
      ]
     },
     "execution_count": 28,
     "metadata": {},
     "output_type": "execute_result"
    },
    {
     "data": {
      "image/png": "[encoded data removed]",
      "text/plain": [
       "Console does not support images"
      ]
     },
     "metadata": {
      "image/png": {
       "height": 32,
       "width": 32
      }
     },
     "output_type": "display_data"
    },
    {
     "data": {
      "text/plain": [
       "airplane\t-2.2460022586454\t\n",
       "automobile\t-2.3143845225156\t\n",
       "bird\t-2.27921074314\t\n",
       "cat\t-2.1527592255064\t\n",
       "deer\t-2.2696049025217\t\n",
       "dog\t-2.3148091293403\t\n",
       "frog\t-2.3951548972443\t\n",
       "horse\t-2.3146242577652\t\n",
       "ship\t-2.4068918021116\t\n",
       "truck\t-2.3577952677517\t\n",
       "truck\t\n"
      ]
     },
     "execution_count": 28,
     "metadata": {},
     "output_type": "execute_result"
    },
    {
     "data": {
      "image/png": "[encoded data removed]",
      "text/plain": [
       "Console does not support images"
      ]
     },
     "metadata": {
      "image/png": {
       "height": 32,
       "width": 32
      }
     },
     "output_type": "display_data"
    },
    {
     "data": {
      "text/plain": [
       "airplane\t-2.2255012121917\t\n",
       "automobile\t-2.2923860892229\t\n",
       "bird\t-2.3371801172997\t\n",
       "cat\t-2.2080463960541\t\n",
       "deer\t-2.3127624724872\t\n",
       "dog\t-2.2774345338033\t\n",
       "frog\t-2.3644646133944\t\n",
       "horse\t-2.2610875619241\t\n",
       "ship\t-2.4078164782472\t\n",
       "truck\t-2.357420216685\t\n",
       "ship\t\n"
      ]
     },
     "execution_count": 28,
     "metadata": {},
     "output_type": "execute_result"
    },
    {
     "data": {
      "image/png": "[encoded data removed]",
      "text/plain": [
       "Console does not support images"
      ]
     },
     "metadata": {
      "image/png": {
       "height": 32,
       "width": 32
      }
     },
     "output_type": "display_data"
    },
    {
     "data": {
      "text/plain": [
       "airplane\t-2.2115722672818\t\n",
       "automobile\t-2.2859283104213\t\n",
       "bird\t-2.3768469755775\t\n",
       "cat\t-2.237659239546\t\n",
       "deer\t-2.303056329592\t\n",
       "dog\t-2.2909976508743\t\n",
       "frog\t-2.3672921557727\t\n",
       "horse\t-2.2528117295019\t\n",
       "ship\t-2.3523186493613\t\n",
       "truck\t-2.3630033126879\t\n",
       "dog\t\n"
      ]
     },
     "execution_count": 28,
     "metadata": {},
     "output_type": "execute_result"
    },
    {
     "data": {
      "image/png": "[encoded data removed]",
      "text/plain": [
       "Console does not support images"
      ]
     },
     "metadata": {
      "image/png": {
       "height": 32,
       "width": 32
      }
     },
     "output_type": "display_data"
    },
    {
     "data": {
      "text/plain": [
       "airplane\t-2.3399526152119\t\n",
       "automobile\t-2.274610808835\t\n",
       "bird\t-2.4817286265781\t\n",
       "cat\t-2.2382407178244\t\n",
       "deer\t-2.2680256250675\t\n",
       "dog\t-2.1863603717883\t\n",
       "frog\t-2.3362897218253\t\n",
       "horse\t-2.3031215869786\t\n",
       "ship\t-2.296121075804\t\n",
       "truck\t-2.3282663132476\t\n",
       "horse\t\n"
      ]
     },
     "execution_count": 28,
     "metadata": {},
     "output_type": "execute_result"
    },
    {
     "data": {
      "image/png": "[encoded data removed]",
      "text/plain": [
       "Console does not support images"
      ]
     },
     "metadata": {
      "image/png": {
       "height": 32,
       "width": 32
      }
     },
     "output_type": "display_data"
    },
    {
     "data": {
      "text/plain": [
       "airplane\t-2.216547112266\t\n",
       "automobile\t-2.2720546024266\t\n",
       "bird\t-2.3964170594544\t\n",
       "cat\t-2.1754652353471\t\n",
       "deer\t-2.3582448708654\t\n",
       "dog\t-2.2692035825698\t\n",
       "frog\t-2.2889718791378\t\n",
       "horse\t-2.3290370225395\t\n",
       "ship\t-2.3710241113045\t\n",
       "truck\t-2.3731097781424\t\n",
       "ship\t\n"
      ]
     },
     "execution_count": 28,
     "metadata": {},
     "output_type": "execute_result"
    },
    {
     "data": {
      "image/png": "[encoded data removed]",
      "text/plain": [
       "Console does not support images"
      ]
     },
     "metadata": {
      "image/png": {
       "height": 32,
       "width": 32
      }
     },
     "output_type": "display_data"
    },
    {
     "data": {
      "text/plain": [
       "airplane\t-2.2457112674217\t\n",
       "automobile\t-2.2357938219845\t\n",
       "bird\t-2.389836240875\t\n",
       "cat\t-2.2268954313372\t\n",
       "deer\t-2.2981483963491\t\n",
       "dog\t-2.2160638324425\t\n",
       "frog\t-2.4416508909768\t\n",
       "horse\t-2.3141554599203\t\n",
       "ship\t-2.3638690619522\t\n",
       "truck\t-2.3194398787635\t\n",
       "frog\t\n"
      ]
     },
     "execution_count": 28,
     "metadata": {},
     "output_type": "execute_result"
    },
    {
     "data": {
      "image/png": "[encoded data removed]",
      "text/plain": [
       "Console does not support images"
      ]
     },
     "metadata": {
      "image/png": {
       "height": 32,
       "width": 32
      }
     },
     "output_type": "display_data"
    },
    {
     "data": {
      "text/plain": [
       "airplane\t-2.2174113324291\t\n",
       "automobile\t-2.2454325772303\t\n"
      ]
     },
     "execution_count": 28,
     "metadata": {},
     "output_type": "execute_result"
    },
    {
     "data": {
      "text/plain": [
       "bird\t-2.3138768380662\t\n",
       "cat\t-2.1888664743565\t\n",
       "deer\t-2.3212917568004\t\n",
       "dog\t-2.3027174459418\t\n",
       "frog\t-2.3945178041614\t\n",
       "horse\t-2.3198189075492\t\n",
       "ship\t-2.3981667090599\t\n",
       "truck\t-2.3456925573091\t\n",
       "horse\t\n"
      ]
     },
     "execution_count": 28,
     "metadata": {},
     "output_type": "execute_result"
    },
    {
     "data": {
      "image/png": "[encoded data removed]",
      "text/plain": [
       "Console does not support images"
      ]
     },
     "metadata": {
      "image/png": {
       "height": 32,
       "width": 32
      }
     },
     "output_type": "display_data"
    },
    {
     "data": {
      "text/plain": [
       "airplane\t-2.1614898110938\t\n",
       "automobile\t-2.2516611965498\t\n",
       "bird\t-2.3875290362712\t\n",
       "cat\t-2.1755813731312\t\n",
       "deer\t-2.2997246908325\t\n",
       "dog\t-2.2577007340692\t\n",
       "frog\t-2.3822068875321\t\n",
       "horse\t-2.2613147318999\t\n",
       "ship\t-2.4729426265471\t\n",
       "truck\t-2.4253135524495\t\n",
       "airplane\t\n"
      ]
     },
     "execution_count": 28,
     "metadata": {},
     "output_type": "execute_result"
    },
    {
     "data": {
      "image/png": "[encoded data removed]",
      "text/plain": [
       "Console does not support images"
      ]
     },
     "metadata": {
      "image/png": {
       "height": 32,
       "width": 32
      }
     },
     "output_type": "display_data"
    },
    {
     "data": {
      "text/plain": [
       "airplane\t-2.1871733981457\t\n",
       "automobile\t-2.2394715960773\t\n",
       "bird\t-2.3567551537074\t\n",
       "cat\t-2.2559132495189\t\n",
       "deer\t-2.2712884945454\t\n",
       "dog\t-2.2562125087657\t\n",
       "frog\t-2.268842680853\t\n",
       "horse\t-2.3234625222014\t\n",
       "ship\t-2.4419266253791\t\n",
       "truck\t-2.4596791737517\t\n",
       "deer\t\n"
      ]
     },
     "execution_count": 28,
     "metadata": {},
     "output_type": "execute_result"
    },
    {
     "data": {
      "image/png": "[encoded data removed]",
      "text/plain": [
       "Console does not support images"
      ]
     },
     "metadata": {
      "image/png": {
       "height": 32,
       "width": 32
      }
     },
     "output_type": "display_data"
    },
    {
     "data": {
      "text/plain": [
       "airplane\t-2.2085839132855\t\n",
       "automobile\t-2.2255779746464\t\n",
       "bird\t-2.3400440169579\t\n",
       "cat\t-2.1998021522725\t\n",
       "deer\t-2.3131010640235\t\n",
       "dog\t-2.3057894032199\t\n",
       "frog\t-2.3479848315142\t\n",
       "horse\t-2.3323815132908\t\n",
       "ship\t-2.3978252526867\t\n",
       "truck\t-2.37714556594\t\n",
       "truck\t\n"
      ]
     },
     "execution_count": 28,
     "metadata": {},
     "output_type": "execute_result"
    },
    {
     "data": {
      "image/png": "[encoded data removed]",
      "text/plain": [
       "Console does not support images"
      ]
     },
     "metadata": {
      "image/png": {
       "height": 32,
       "width": 32
      }
     },
     "output_type": "display_data"
    },
    {
     "data": {
      "text/plain": [
       "airplane\t-2.1466975768152\t\n",
       "automobile\t-2.212735320154\t\n",
       "bird\t-2.4295507160354\t\n",
       "cat\t-2.2360951838311\t\n",
       "deer\t-2.3223594784776\t\n",
       "dog\t-2.3192142988773\t\n",
       "frog\t-2.341882587299\t\n",
       "horse\t-2.2705099620539\t\n",
       "ship\t-2.3626578410025\t\n",
       "truck\t-2.4212590402848\t\n",
       "dog\t\n"
      ]
     },
     "execution_count": 28,
     "metadata": {},
     "output_type": "execute_result"
    },
    {
     "data": {
      "image/png": "[encoded data removed]",
      "text/plain": [
       "Console does not support images"
      ]
     },
     "metadata": {
      "image/png": {
       "height": 32,
       "width": 32
      }
     },
     "output_type": "display_data"
    },
    {
     "data": {
      "text/plain": [
       "airplane\t-2.2198059581704\t\n",
       "automobile\t-2.2089503521454\t\n",
       "bird\t-2.388715487793\t\n",
       "cat\t-2.2772023481175\t\n",
       "deer\t-2.3106210444792\t\n",
       "dog\t-2.2237405142434\t\n",
       "frog\t-2.4180181024144\t\n",
       "horse\t-2.3058738935668\t\n",
       "ship\t-2.3648643651419\t\n",
       "truck\t-2.3320059985351\t\n",
       "bird\t\n"
      ]
     },
     "execution_count": 28,
     "metadata": {},
     "output_type": "execute_result"
    },
    {
     "data": {
      "image/png": "[encoded data removed]",
      "text/plain": [
       "Console does not support images"
      ]
     },
     "metadata": {
      "image/png": {
       "height": 32,
       "width": 32
      }
     },
     "output_type": "display_data"
    },
    {
     "data": {
      "text/plain": [
       "airplane\t-2.2252130577045\t\n",
       "automobile\t-2.2666357310239\t\n",
       "bird\t-2.3563614981865\t\n",
       "cat\t-2.2321079340767\t\n",
       "deer\t-2.2777608162899\t\n",
       "dog\t-2.3035418325814\t\n",
       "frog\t-2.4072216460545\t\n",
       "horse\t-2.2775565733533\t\n",
       "ship\t-2.380699614995\t\n",
       "truck\t-2.3154117050239\t\n",
       "deer\t\n"
      ]
     },
     "execution_count": 28,
     "metadata": {},
     "output_type": "execute_result"
    },
    {
     "data": {
      "image/png": "[encoded data removed]",
      "text/plain": [
       "Console does not support images"
      ]
     },
     "metadata": {
      "image/png": {
       "height": 32,
       "width": 32
      }
     },
     "output_type": "display_data"
    },
    {
     "data": {
      "text/plain": [
       "airplane\t-2.2163497848359\t\n",
       "automobile\t-2.1772185657704\t\n",
       "bird\t-2.4238648606295\t\n",
       "cat\t-2.2521912332836\t\n",
       "deer\t-2.3162105210101\t\n",
       "dog\t-2.2775608594739\t\n",
       "frog\t-2.3810233423644\t\n",
       "horse\t-2.3118380642016\t\n",
       "ship\t-2.3412122209709\t\n",
       "truck\t-2.3542607662394\t\n",
       "airplane\t\n"
      ]
     },
     "execution_count": 28,
     "metadata": {},
     "output_type": "execute_result"
    },
    {
     "data": {
      "image/png": "[encoded data removed]",
      "text/plain": [
       "Console does not support images"
      ]
     },
     "metadata": {
      "image/png": {
       "height": 32,
       "width": 32
      }
     },
     "output_type": "display_data"
    },
    {
     "data": {
      "text/plain": [
       "airplane\t-2.1721948075875\t\n",
       "automobile\t-2.2914909026247\t\n",
       "bird\t-2.401649428858\t\n",
       "cat\t-2.2197942849731\t\n",
       "deer\t-2.3481175074925\t\n",
       "dog\t-2.2724846052904\t\n",
       "frog\t-2.3383232021037\t\n",
       "horse\t"
      ]
     },
     "execution_count": 28,
     "metadata": {},
     "output_type": "execute_result"
    },
    {
     "data": {
      "text/plain": [
       "-2.2770813169057\t\n",
       "ship\t-2.3951997002108\t\n",
       "truck\t-2.3338116719894\t\n",
       "truck\t\n"
      ]
     },
     "execution_count": 28,
     "metadata": {},
     "output_type": "execute_result"
    },
    {
     "data": {
      "image/png": "[encoded data removed]",
      "text/plain": [
       "Console does not support images"
      ]
     },
     "metadata": {
      "image/png": {
       "height": 32,
       "width": 32
      }
     },
     "output_type": "display_data"
    },
    {
     "data": {
      "text/plain": [
       "airplane\t-2.2142191348161\t\n",
       "automobile\t-2.2704532136505\t\n",
       "bird\t-2.3763480912185\t\n",
       "cat\t-2.1906590556516\t\n",
       "deer\t-2.2854198820079\t\n",
       "dog\t-2.2601318756106\t\n",
       "frog\t-2.4308257164215\t\n",
       "horse\t-2.2822910231181\t\n",
       "ship\t-2.3864603038444\t\n",
       "truck\t-2.3567595463878\t\n",
       "frog\t\n"
      ]
     },
     "execution_count": 28,
     "metadata": {},
     "output_type": "execute_result"
    },
    {
     "data": {
      "image/png": "[encoded data removed]",
      "text/plain": [
       "Console does not support images"
      ]
     },
     "metadata": {
      "image/png": {
       "height": 32,
       "width": 32
      }
     },
     "output_type": "display_data"
    },
    {
     "data": {
      "text/plain": [
       "airplane\t-2.2249238657522\t\n",
       "automobile\t-2.1998650455874\t\n",
       "bird\t-2.4171829391373\t\n"
      ]
     },
     "execution_count": 28,
     "metadata": {},
     "output_type": "execute_result"
    },
    {
     "data": {
      "image/png": "[encoded data removed]",
      "text/plain": [
       "Console does not support images"
      ]
     },
     "metadata": {
      "image/png": {
       "height": 32,
       "width": 32
      }
     },
     "output_type": "display_data"
    },
    {
     "data": {
      "text/plain": [
       "cat\t-2.2193030391064\t\n",
       "deer\t-2.337828936066\t\n",
       "dog\t-2.2916169099448\t\n",
       "frog\t-2.2819874210503\t\n",
       "horse\t-2.3061355108543\t\n",
       "ship\t-2.2942719051497\t\n",
       "truck\t-2.4883414880369\t\n",
       "frog\t\n"
      ]
     },
     "execution_count": 28,
     "metadata": {},
     "output_type": "execute_result"
    },
    {
     "data": {
      "text/plain": [
       "airplane\t-2.2294254161712\t\n",
       "automobile\t-2.2060407285797\t\n",
       "bird\t-2.4186273562919\t\n",
       "cat\t-2.2150610250812\t\n",
       "deer\t-2.3107236386433\t\n",
       "dog\t-2.3124331311347\t\n",
       "frog\t-2.2622875964864\t\n",
       "horse\t-2.3469832622622\t\n",
       "ship\t-2.3096225025843\t\n",
       "truck\t-2.4440823238152\t\n",
       "dog\t\n"
      ]
     },
     "execution_count": 28,
     "metadata": {},
     "output_type": "execute_result"
    },
    {
     "data": {
      "image/png": "[encoded data removed]",
      "text/plain": [
       "Console does not support images"
      ]
     },
     "metadata": {
      "image/png": {
       "height": 32,
       "width": 32
      }
     },
     "output_type": "display_data"
    },
    {
     "data": {
      "text/plain": [
       "airplane\t-2.2291735738487\t\n",
       "automobile\t-2.1482357275071\t\n",
       "bird\t-2.4526486171267\t\n",
       "cat\t-2.2000181137468\t\n",
       "deer\t-2.3803733844637\t\n",
       "dog\t-2.2681446885082\t\n",
       "frog\t-2.3149339339542\t\n",
       "horse\t-2.354878256512\t\n",
       "ship\t-2.3597755350868\t\n",
       "truck\t-2.3571776411029\t\n",
       "deer\t\n"
      ]
     },
     "execution_count": 28,
     "metadata": {},
     "output_type": "execute_result"
    },
    {
     "data": {
      "image/png": "[encoded data removed]",
      "text/plain": [
       "Console does not support images"
      ]
     },
     "metadata": {
      "image/png": {
       "height": 32,
       "width": 32
      }
     },
     "output_type": "display_data"
    },
    {
     "data": {
      "text/plain": [
       "airplane\t-2.2576951390284\t\n",
       "automobile\t-2.2236845600381\t\n",
       "bird\t-2.3995600250155\t\n",
       "cat\t-2.22595972871\t\n",
       "deer\t-2.3130149428858\t\n",
       "dog\t-2.2590040460568\t\n",
       "frog\t-2.3260564938821\t\n",
       "horse\t-2.3228011624125\t\n",
       "ship\t-2.3709696543337\t\n",
       "truck\t-2.3434954288559\t\n",
       "dog\t\n"
      ]
     },
     "execution_count": 28,
     "metadata": {},
     "output_type": "execute_result"
    },
    {
     "data": {
      "image/png": "[encoded data removed]",
      "text/plain": [
       "Console does not support images"
      ]
     },
     "metadata": {
      "image/png": {
       "height": 32,
       "width": 32
      }
     },
     "output_type": "display_data"
    },
    {
     "data": {
      "text/plain": [
       "airplane\t-2.2366775158899\t\n",
       "automobile\t-2.2813738956228\t\n",
       "bird\t-2.3960299032706\t\n",
       "cat\t-2.2218254120875\t\n",
       "deer\t-2.2599370408734\t\n",
       "dog\t-2.2739067713747\t\n",
       "frog\t-2.3314780026346\t\n",
       "horse\t-2.3199311903674\t\n",
       "ship\t-2.3360937421192\t\n",
       "truck\t-2.3843364456206\t\n",
       "truck\t\n"
      ]
     },
     "execution_count": 28,
     "metadata": {},
     "output_type": "execute_result"
    },
    {
     "data": {
      "image/png": "[encoded data removed]",
      "text/plain": [
       "Console does not support images"
      ]
     },
     "metadata": {
      "image/png": {
       "height": 32,
       "width": 32
      }
     },
     "output_type": "display_data"
    },
    {
     "data": {
      "text/plain": [
       "airplane\t-2.2007935159892\t\n",
       "automobile\t-2.2575496118982\t\n",
       "bird\t-2.3523627655072\t\n",
       "cat\t-2.1837359261659\t\n",
       "deer\t-2.2920189844175\t\n",
       "dog\t-2.3482869044756\t\n",
       "frog\t-2.3564930326676\t\n",
       "horse\t-2.3038843622934\t\n",
       "ship\t-2.372842368959\t\n",
       "truck\t-2.3807438713608\t\n",
       "bird\t\n"
      ]
     },
     "execution_count": 28,
     "metadata": {},
     "output_type": "execute_result"
    },
    {
     "data": {
      "image/png": "[encoded data removed]",
      "text/plain": [
       "Console does not support images"
      ]
     },
     "metadata": {
      "image/png": {
       "height": 32,
       "width": 32
      }
     },
     "output_type": "display_data"
    },
    {
     "data": {
      "text/plain": [
       "airplane\t-2.2274428396463\t\n",
       "automobile\t-2.2870158888288\t\n",
       "bird\t-2.3375553485757\t\n",
       "cat\t-2.2022609082291\t\n",
       "deer\t-2.29825878794\t\n",
       "dog\t-2.3018818603908\t\n",
       "frog\t-2.3755361755319\t\n",
       "horse\t-2.3337570019783\t\n",
       "ship\t-2.3539864614194\t\n",
       "truck\t-2.3215473938506\t\n",
       "deer\t\n"
      ]
     },
     "execution_count": 28,
     "metadata": {},
     "output_type": "execute_result"
    },
    {
     "data": {
      "image/png": "[encoded data removed]",
      "text/plain": [
       "Console does not support images"
      ]
     },
     "metadata": {
      "image/png": {
       "height": 32,
       "width": 32
      }
     },
     "output_type": "display_data"
    },
    {
     "data": {
      "text/plain": [
       "airplane\t-2.2085379109893\t\n",
       "automobile\t-2.1950344496685\t\n",
       "bird\t-2.4411563349328\t\n",
       "cat\t-2.2356486218817\t\n",
       "deer\t-2.315385327034\t\n",
       "dog\t-2.2534380496082\t\n",
       "frog\t-2.3055183301464\t\n",
       "horse\t-2.361005007554\t\n",
       "ship\t-2.3531613868272\t\n",
       "truck\t-2.3866734452253\t\n",
       "automobile\t\n"
      ]
     },
     "execution_count": 28,
     "metadata": {},
     "output_type": "execute_result"
    },
    {
     "data": {
      "image/png": "[encoded data removed]",
      "text/plain": [
       "Console does not support images"
      ]
     },
     "metadata": {
      "image/png": {
       "height": 32,
       "width": 32
      }
     },
     "output_type": "display_data"
    },
    {
     "data": {
      "text/plain": [
       "airplane\t-2.292890379082\t\n",
       "automobile\t-2.2435287311057\t\n",
       "bird\t-2.3572993771216\t\n",
       "cat\t-2.2386520075993\t\n",
       "deer\t-2.2117550354046\t\n",
       "dog\t-2.2695583567942\t\n",
       "frog\t-2.4185762229069\t\n",
       "horse\t-2.2628921028828\t\n",
       "ship\t-2.3799145568833\t\n",
       "truck\t-2.3736235098976\t\n",
       "truck\t\n"
      ]
     },
     "execution_count": 28,
     "metadata": {},
     "output_type": "execute_result"
    },
    {
     "data": {
      "image/png": "[encoded data removed]",
      "text/plain": [
       "Console does not support images"
      ]
     },
     "metadata": {
      "image/png": {
       "height": 32,
       "width": 32
      }
     },
     "output_type": "display_data"
    },
    {
     "data": {
      "text/plain": [
       "airplane\t-2.1927192811658\t\n",
       "automobile\t-2.1822114222429\t\n",
       "bird\t-2.4490778293012\t\n",
       "cat\t-2.250290745439\t\n",
       "deer\t-2.2726131812565\t\n",
       "dog\t-2.2889933544082\t\n",
       "frog\t-2.3831793016442\t\n",
       "horse\t-2.3251477255214\t\n",
       "ship\t-2.3116614999025\t\n",
       "truck\t-2.4043932048169\t\n",
       "dog\t\n"
      ]
     },
     "execution_count": 28,
     "metadata": {},
     "output_type": "execute_result"
    },
    {
     "data": {
      "image/png": "[encoded data removed]",
      "text/plain": [
       "Console does not support images"
      ]
     },
     "metadata": {
      "image/png": {
       "height": 32,
       "width": 32
      }
     },
     "output_type": "display_data"
    },
    {
     "data": {
      "text/plain": [
       "airplane\t"
      ]
     },
     "execution_count": 28,
     "metadata": {},
     "output_type": "execute_result"
    },
    {
     "data": {
      "text/plain": [
       "-2.2269883107939\t\n",
       "automobile\t-2.2779965371339\t\n",
       "bird\t-2.3386901073636\t\n",
       "cat\t-2.2390968699374\t\n",
       "deer\t-2.3065975885302\t\n",
       "dog\t-2.2919556295474\t\n",
       "frog\t-2.3486614952825\t\n",
       "horse\t-2.2995402512742\t\n",
       "ship\t-2.3906851561726\t\n",
       "truck\t-2.3165585838456\t\n",
       "deer\t\n"
      ]
     },
     "execution_count": 28,
     "metadata": {},
     "output_type": "execute_result"
    },
    {
     "data": {
      "image/png": "[encoded data removed]",
      "text/plain": [
       "Console does not support images"
      ]
     },
     "metadata": {
      "image/png": {
       "height": 32,
       "width": 32
      }
     },
     "output_type": "display_data"
    },
    {
     "data": {
      "text/plain": [
       "airplane\t"
      ]
     },
     "execution_count": 28,
     "metadata": {},
     "output_type": "execute_result"
    },
    {
     "data": {
      "text/plain": [
       "-2.2362088141144\t\n",
       "automobile\t-2.3400517794705\t\n",
       "bird\t-2.3635996166711\t\n",
       "cat\t-2.1481606207831\t\n",
       "deer\t-2.3588022367278\t\n",
       "dog\t-2.3070051037422\t\n",
       "frog\t-2.3565162585079\t\n",
       "horse\t-2.2843507812464\t\n",
       "ship\t-2.4032631956433\t\n",
       "truck\t-2.2544594340271\t\n",
       "frog\t\n"
      ]
     },
     "execution_count": 28,
     "metadata": {},
     "output_type": "execute_result"
    },
    {
     "data": {
      "image/png": "[encoded data removed]",
      "text/plain": [
       "Console does not support images"
      ]
     },
     "metadata": {
      "image/png": {
       "height": 32,
       "width": 32
      }
     },
     "output_type": "display_data"
    },
    {
     "data": {
      "text/plain": [
       "airplane\t-2.2371840983035\t\n",
       "automobile\t-2.2407854956026\t\n",
       "bird\t-2.3771410639933\t\n",
       "cat\t-2.1961381534778\t\n",
       "deer\t-2.3177761546985\t\n",
       "dog\t-2.3043937141146\t\n",
       "frog\t-2.3411758296394\t\n",
       "horse\t-2.2776708850321\t\n",
       "ship\t-2.3361200744672\t\n",
       "truck\t-2.4183551625986\t\n",
       "dog\t\n"
      ]
     },
     "execution_count": 28,
     "metadata": {},
     "output_type": "execute_result"
    },
    {
     "data": {
      "image/png": "[encoded data removed]",
      "text/plain": [
       "Console does not support images"
      ]
     },
     "metadata": {
      "image/png": {
       "height": 32,
       "width": 32
      }
     },
     "output_type": "display_data"
    },
    {
     "data": {
      "text/plain": [
       "airplane\t-2.1636595867739\t\n",
       "automobile\t-2.2070176949623\t\n",
       "bird\t-2.3883829430958\t\n",
       "cat\t-2.2089502381484\t\n",
       "deer\t-2.3727375348915\t\n",
       "dog\t-2.3601965171294\t\n",
       "frog\t-2.3127953787135\t\n",
       "horse\t-2.2791223747038\t\n",
       "ship\t-2.3313921119341\t\n",
       "truck\t-2.4380773161153\t\n",
       "frog\t\n"
      ]
     },
     "execution_count": 28,
     "metadata": {},
     "output_type": "execute_result"
    },
    {
     "data": {
      "image/png": "[encoded data removed]",
      "text/plain": [
       "Console does not support images"
      ]
     },
     "metadata": {
      "image/png": {
       "height": 32,
       "width": 32
      }
     },
     "output_type": "display_data"
    },
    {
     "data": {
      "text/plain": [
       "airplane\t-2.2262462151963\t\n",
       "automobile\t-2.2540635511784\t\n",
       "bird\t-2.4024732410576\t\n",
       "cat\t-2.2444876787615\t\n"
      ]
     },
     "execution_count": 28,
     "metadata": {},
     "output_type": "execute_result"
    },
    {
     "data": {
      "text/plain": [
       "deer\t-2.3014342517553\t\n",
       "dog\t-2.3060504531159\t\n",
       "frog\t-2.2794644597485\t\n",
       "horse\t-2.3413306233914\t\n",
       "ship\t-2.2881800607343\t\n",
       "truck\t-2.398424424329\t\n",
       "airplane\t\n"
      ]
     },
     "execution_count": 28,
     "metadata": {},
     "output_type": "execute_result"
    },
    {
     "data": {
      "image/png": "[encoded data removed]",
      "text/plain": [
       "Console does not support images"
      ]
     },
     "metadata": {
      "image/png": {
       "height": 32,
       "width": 32
      }
     },
     "output_type": "display_data"
    },
    {
     "data": {
      "text/plain": [
       "airplane\t-2.2209383346865\t\n",
       "automobile\t-2.273776678832\t\n",
       "bird\t"
      ]
     },
     "execution_count": 28,
     "metadata": {},
     "output_type": "execute_result"
    },
    {
     "data": {
      "text/plain": [
       "-2.3362175613215\t\n",
       "cat\t-2.2084467852734\t\n",
       "deer\t-2.3268571933191\t\n",
       "dog\t-2.3220225935789\t\n",
       "frog\t-2.4739865148729\t\n",
       "horse\t-2.3118900219905\t\n",
       "ship\t-2.3942254437682\t\n",
       "truck\t-2.1913688438001\t\n",
       "truck\t\n"
      ]
     },
     "execution_count": 28,
     "metadata": {},
     "output_type": "execute_result"
    },
    {
     "data": {
      "image/png": "[encoded data removed]",
      "text/plain": [
       "Console does not support images"
      ]
     },
     "metadata": {
      "image/png": {
       "height": 32,
       "width": 32
      }
     },
     "output_type": "display_data"
    },
    {
     "data": {
      "text/plain": [
       "airplane\t-2.2104637406367\t\n",
       "automobile\t-2.3081194249395\t\n"
      ]
     },
     "execution_count": 28,
     "metadata": {},
     "output_type": "execute_result"
    },
    {
     "data": {
      "text/plain": [
       "bird\t-2.3378711481089\t\n",
       "cat\t-2.2093251216225\t\n",
       "deer\t-2.3897608693684\t\n",
       "dog\t-2.2900677237916\t\n",
       "frog\t-2.3641506000439\t\n",
       "horse\t-2.2349299039525\t\n",
       "ship\t-2.3308468687452\t\n",
       "truck\t-2.370423634494\t\n",
       "cat\t\n"
      ]
     },
     "execution_count": 28,
     "metadata": {},
     "output_type": "execute_result"
    },
    {
     "data": {
      "image/png": "[encoded data removed]",
      "text/plain": [
       "Console does not support images"
      ]
     },
     "metadata": {
      "image/png": {
       "height": 32,
       "width": 32
      }
     },
     "output_type": "display_data"
    },
    {
     "data": {
      "text/plain": [
       "airplane\t-2.2444909372899\t\n",
       "automobile\t-2.211314882565\t\n",
       "bird\t-2.3844156787937\t\n",
       "cat\t-2.2078474139666\t\n",
       "deer\t-2.3080865846739\t\n",
       "dog\t-2.2919682606713\t\n",
       "frog\t-2.3109874113141\t\n",
       "horse\t-2.3890867346383\t\n",
       "ship\t-2.3685760721962\t\n",
       "truck\t-2.3292078496235\t\n",
       "truck\t\n"
      ]
     },
     "execution_count": 28,
     "metadata": {},
     "output_type": "execute_result"
    },
    {
     "data": {
      "image/png": "[encoded data removed]",
      "text/plain": [
       "Console does not support images"
      ]
     },
     "metadata": {
      "image/png": {
       "height": 32,
       "width": 32
      }
     },
     "output_type": "display_data"
    },
    {
     "data": {
      "text/plain": [
       "airplane\t-2.2500190785871\t\n",
       "automobile\t-2.271071373869\t\n",
       "bird\t-2.3301988737655\t\n",
       "cat\t-2.2455223876348\t\n",
       "deer\t-2.2876137776074\t\n",
       "dog\t-2.2721370218067\t\n",
       "frog\t-2.3917075146345\t\n",
       "horse\t-2.2942052955918\t\n",
       "ship\t-2.3885089876867\t\n",
       "truck\t-2.30688112795\t\n",
       "horse\t\n"
      ]
     },
     "execution_count": 28,
     "metadata": {},
     "output_type": "execute_result"
    },
    {
     "data": {
      "image/png": "[encoded data removed]",
      "text/plain": [
       "Console does not support images"
      ]
     },
     "metadata": {
      "image/png": {
       "height": 32,
       "width": 32
      }
     },
     "output_type": "display_data"
    },
    {
     "data": {
      "text/plain": [
       "airplane\t-2.2280016188542\t\n",
       "automobile\t-2.2272023180474\t\n",
       "bird\t-2.3966141259678\t\n",
       "cat\t-2.2155865861794\t\n",
       "deer\t-2.3579729366528\t\n",
       "dog\t-2.3022565193325\t\n",
       "frog\t-2.3241714742287\t\n",
       "horse\t-2.2747559409629\t\n"
      ]
     },
     "execution_count": 28,
     "metadata": {},
     "output_type": "execute_result"
    },
    {
     "data": {
      "text/plain": [
       "ship\t-2.3786360731387\t\n",
       "truck\t-2.3402497179687\t\n",
       "frog\t\n"
      ]
     },
     "execution_count": 28,
     "metadata": {},
     "output_type": "execute_result"
    },
    {
     "data": {
      "image/png": "[encoded data removed]",
      "text/plain": [
       "Console does not support images"
      ]
     },
     "metadata": {
      "image/png": {
       "height": 32,
       "width": 32
      }
     },
     "output_type": "display_data"
    },
    {
     "data": {
      "text/plain": [
       "airplane\t-2.246161701931\t\n",
       "automobile\t-2.1640667753696\t\n",
       "bird\t-2.4386214862163\t\n",
       "cat\t-2.1997965330579\t\n",
       "deer\t-2.3132325897113\t\n",
       "dog\t-2.2957655232835\t\n",
       "frog\t-2.3192741474461\t\n",
       "horse\t-2.3406838456019\t\n",
       "ship\t-2.3369927704849\t\n",
       "truck\t-2.4037111572576\t\n",
       "truck\t\n"
      ]
     },
     "execution_count": 28,
     "metadata": {},
     "output_type": "execute_result"
    },
    {
     "data": {
      "image/png": "[encoded data removed]",
      "text/plain": [
       "Console does not support images"
      ]
     },
     "metadata": {
      "image/png": {
       "height": 32,
       "width": 32
      }
     },
     "output_type": "display_data"
    },
    {
     "data": {
      "text/plain": [
       "airplane\t-2.2101721736612\t\n",
       "automobile\t-2.3403098551856\t\n",
       "bird\t-2.2507355733939\t\n",
       "cat\t-2.2176229351313\t\n",
       "deer\t-2.2304896444013\t\n",
       "dog\t-2.2893866073237\t\n",
       "frog\t-2.4050812699696\t\n",
       "horse\t-2.2784932032301\t\n",
       "ship\t-2.3811041742718\t\n",
       "truck\t-2.4547845668185\t\n",
       "ship\t\n"
      ]
     },
     "execution_count": 28,
     "metadata": {},
     "output_type": "execute_result"
    },
    {
     "data": {
      "image/png": "[encoded data removed]",
      "text/plain": [
       "Console does not support images"
      ]
     },
     "metadata": {
      "image/png": {
       "height": 32,
       "width": 32
      }
     },
     "output_type": "display_data"
    },
    {
     "data": {
      "text/plain": [
       "airplane\t-2.2065842205815\t\n",
       "automobile\t-2.2501954480451\t\n",
       "bird\t-2.3312200444225\t\n",
       "cat\t-2.2079432066979\t\n",
       "deer\t-2.3336359176498\t\n",
       "dog\t-2.2407108401202\t\n",
       "frog\t-2.4400259222024\t\n",
       "horse\t-2.3030735162698\t\n",
       "ship\t-2.3890002483865\t\n",
       "truck\t-2.3508812036976\t\n",
       "airplane\t\n"
      ]
     },
     "execution_count": 28,
     "metadata": {},
     "output_type": "execute_result"
    },
    {
     "data": {
      "image/png": "[encoded data removed]",
      "text/plain": [
       "Console does not support images"
      ]
     },
     "metadata": {
      "image/png": {
       "height": 32,
       "width": 32
      }
     },
     "output_type": "display_data"
    },
    {
     "data": {
      "text/plain": [
       "airplane\t-2.2393361576108\t\n",
       "automobile\t-2.279177024336\t\n",
       "bird\t-2.4263849627416\t\n",
       "cat\t-2.2010819606554\t\n",
       "deer\t-2.2723207476766\t\n",
       "dog\t-2.2753358157013\t\n",
       "frog\t-2.3687030182635\t\n",
       "horse\t-2.314100736477\t\n",
       "ship\t-2.3444142752622\t\n",
       "truck\t"
      ]
     },
     "execution_count": 28,
     "metadata": {},
     "output_type": "execute_result"
    },
    {
     "data": {
      "text/plain": [
       "-2.3241372725347\t\n",
       "cat\t\n"
      ]
     },
     "execution_count": 28,
     "metadata": {},
     "output_type": "execute_result"
    },
    {
     "data": {
      "image/png": "[encoded data removed]",
      "text/plain": [
       "Console does not support images"
      ]
     },
     "metadata": {
      "image/png": {
       "height": 32,
       "width": 32
      }
     },
     "output_type": "display_data"
    },
    {
     "data": {
      "text/plain": [
       "airplane\t-2.2320033924652\t\n",
       "automobile\t-2.1878149302375\t\n",
       "bird\t-2.4014654571371\t\n",
       "cat\t-2.2285146220656\t\n",
       "deer\t-2.3238345122292\t\n",
       "dog\t-2.3137833921378\t\n",
       "frog\t-2.3227246813567\t\n",
       "horse\t-2.2974033776924\t\n",
       "ship\t-2.3473728044041\t\n",
       "truck\t-2.3933613971476\t\n",
       "ship\t\n"
      ]
     },
     "execution_count": 28,
     "metadata": {},
     "output_type": "execute_result"
    },
    {
     "data": {
      "image/png": "[encoded data removed]",
      "text/plain": [
       "Console does not support images"
      ]
     },
     "metadata": {
      "image/png": {
       "height": 32,
       "width": 32
      }
     },
     "output_type": "display_data"
    },
    {
     "data": {
      "text/plain": [
       "airplane\t-2.2553685017913\t\n",
       "automobile\t-2.2715639489151\t\n",
       "bird\t-2.3400121819383\t\n",
       "cat\t-2.2408916097491\t\n",
       "deer\t-2.2677191247887\t\n",
       "dog\t-2.2551045172772\t\n",
       "frog\t-2.3975781184335\t\n",
       "horse\t-2.3100425313653\t\n",
       "ship\t-2.3403432664533\t\n",
       "truck\t-2.3599593455254\t\n",
       "ship\t\n"
      ]
     },
     "execution_count": 28,
     "metadata": {},
     "output_type": "execute_result"
    },
    {
     "data": {
      "image/png": "[encoded data removed]",
      "text/plain": [
       "Console does not support images"
      ]
     },
     "metadata": {
      "image/png": {
       "height": 32,
       "width": 32
      }
     },
     "output_type": "display_data"
    },
    {
     "data": {
      "text/plain": [
       "airplane\t-2.2433491224796\t\n",
       "automobile\t-2.2125709491487\t\n",
       "bird\t-2.3650667947773\t\n",
       "cat\t-2.2182707576647\t\n",
       "deer\t-2.3132358426685\t\n",
       "dog\t-2.2575670718163\t\n",
       "frog\t-2.3598743201048\t\n",
       "horse\t-2.3570069423097\t\n",
       "ship\t-2.3612359035585\t\n",
       "truck\t-2.3564694631907\t\n",
       "horse\t\n"
      ]
     },
     "execution_count": 28,
     "metadata": {},
     "output_type": "execute_result"
    },
    {
     "data": {
      "image/png": "[encoded data removed]",
      "text/plain": [
       "Console does not support images"
      ]
     },
     "metadata": {
      "image/png": {
       "height": 32,
       "width": 32
      }
     },
     "output_type": "display_data"
    },
    {
     "data": {
      "text/plain": [
       "airplane\t-2.2410967088297\t\n",
       "automobile\t-2.3806918701152\t\n",
       "bird\t-2.34551975361\t\n"
      ]
     },
     "execution_count": 28,
     "metadata": {},
     "output_type": "execute_result"
    },
    {
     "data": {
      "text/plain": [
       "cat\t-2.1694345397985\t\n",
       "deer\t-2.3037237071172\t\n",
       "dog\t-2.3250447947874\t\n",
       "frog\t-2.4688688308178\t\n",
       "horse\t-2.204905939746\t\n",
       "ship\t-2.3996822688909\t\n",
       "truck\t-2.2276772320818\t\n",
       "horse\t\n"
      ]
     },
     "execution_count": 28,
     "metadata": {},
     "output_type": "execute_result"
    },
    {
     "data": {
      "image/png": "[encoded data removed]",
      "text/plain": [
       "Console does not support images"
      ]
     },
     "metadata": {
      "image/png": {
       "height": 32,
       "width": 32
      }
     },
     "output_type": "display_data"
    },
    {
     "data": {
      "text/plain": [
       "airplane\t-2.2062452438306\t\n",
       "automobile\t-2.229083406919\t\n",
       "bird\t-2.374771103099\t\n",
       "cat\t-2.1553452420563\t\n",
       "deer\t-2.3653700348002\t\n",
       "dog\t-2.3268075009797\t\n",
       "frog\t-2.3212906877513\t\n",
       "horse\t-2.2817869196564\t\n",
       "ship\t-2.4168192747123\t\n",
       "truck\t-2.3817803828225\t\n",
       "deer\t\n"
      ]
     },
     "execution_count": 28,
     "metadata": {},
     "output_type": "execute_result"
    },
    {
     "data": {
      "image/png": "[encoded data removed]",
      "text/plain": [
       "Console does not support images"
      ]
     },
     "metadata": {
      "image/png": {
       "height": 32,
       "width": 32
      }
     },
     "output_type": "display_data"
    },
    {
     "data": {
      "text/plain": [
       "airplane\t-2.2210570465021\t\n",
       "automobile\t-2.2999105354167\t\n",
       "bird\t-2.3655742347963\t\n",
       "cat\t-2.2279853321251\t\n",
       "deer\t-2.3310617626481\t\n",
       "dog\t-2.2718267665269\t\n",
       "frog\t-2.3283223034851\t\n",
       "horse\t-2.2886493846558\t\n",
       "ship\t-2.3592306845341\t\n",
       "truck\t-2.3441811694269\t\n",
       "frog\t\n"
      ]
     },
     "execution_count": 28,
     "metadata": {},
     "output_type": "execute_result"
    },
    {
     "data": {
      "image/png": "[encoded data removed]",
      "text/plain": [
       "Console does not support images"
      ]
     },
     "metadata": {
      "image/png": {
       "height": 32,
       "width": 32
      }
     },
     "output_type": "display_data"
    },
    {
     "data": {
      "text/plain": [
       "airplane\t-2.2060932770645\t\n",
       "automobile\t-2.2486760730486\t\n",
       "bird\t-2.3521410564183\t\n",
       "cat\t-2.2047871817726\t\n",
       "deer\t-2.294932577202\t\n",
       "dog\t-2.2916206760763\t\n",
       "frog\t-2.3670287578682\t\n",
       "horse\t-2.3456206322293\t\n",
       "ship\t-2.3867164178621\t\n",
       "truck\t-2.3481729828066\t\n",
       "horse\t\n"
      ]
     },
     "execution_count": 28,
     "metadata": {},
     "output_type": "execute_result"
    },
    {
     "data": {
      "image/png": "[encoded data removed]",
      "text/plain": [
       "Console does not support images"
      ]
     },
     "metadata": {
      "image/png": {
       "height": 32,
       "width": 32
      }
     },
     "output_type": "display_data"
    },
    {
     "data": {
      "text/plain": [
       "airplane\t-2.2148645779032\t\n"
      ]
     },
     "execution_count": 28,
     "metadata": {},
     "output_type": "execute_result"
    },
    {
     "data": {
      "text/plain": [
       "automobile\t-2.2267633030594\t\n",
       "bird\t-2.4069093673533\t\n",
       "cat\t-2.2180043764367\t\n",
       "deer\t-2.2779865354894\t\n",
       "dog\t-2.2582842528093\t\n",
       "frog\t-2.3536837897099\t\n",
       "horse\t-2.3052230461843\t\n",
       "ship\t-2.393960715391\t\n",
       "truck\t-2.3969756330204\t\n",
       "cat\t\n"
      ]
     },
     "execution_count": 28,
     "metadata": {},
     "output_type": "execute_result"
    },
    {
     "data": {
      "image/png": "[encoded data removed]",
      "text/plain": [
       "Console does not support images"
      ]
     },
     "metadata": {
      "image/png": {
       "height": 32,
       "width": 32
      }
     },
     "output_type": "display_data"
    },
    {
     "data": {
      "text/plain": [
       "airplane\t-2.2259863951846\t\n",
       "automobile\t-2.1625705029219\t\n",
       "bird\t-2.4007998078044\t\n",
       "cat\t-2.1711838390059\t\n",
       "deer\t-2.3539788281556\t\n",
       "dog\t-2.2965254999315\t\n",
       "frog\t-2.2729733159569\t\n",
       "horse\t-2.4108527153319\t\n",
       "ship\t-2.376958437387\t\n",
       "truck\t-2.3952800010032\t\n",
       "frog\t\n"
      ]
     },
     "execution_count": 28,
     "metadata": {},
     "output_type": "execute_result"
    },
    {
     "data": {
      "image/png": "[encoded data removed]",
      "text/plain": [
       "Console does not support images"
      ]
     },
     "metadata": {
      "image/png": {
       "height": 32,
       "width": 32
      }
     },
     "output_type": "display_data"
    },
    {
     "data": {
      "text/plain": [
       "airplane\t-2.2346944704234\t\n",
       "automobile\t-2.2926956964603\t\n",
       "bird\t-2.3600412640138\t\n",
       "cat\t-2.212830556516\t\n",
       "deer\t-2.2559680905449\t\n",
       "dog\t-2.3012584589291\t\n",
       "frog\t-2.3438419945563\t\n",
       "horse\t-2.3019054216817\t\n",
       "ship\t-2.3607521787262\t\n",
       "truck\t-2.3762947703493\t\n",
       "cat\t\n"
      ]
     },
     "execution_count": 28,
     "metadata": {},
     "output_type": "execute_result"
    },
    {
     "data": {
      "image/png": "[encoded data removed]",
      "text/plain": [
       "Console does not support images"
      ]
     },
     "metadata": {
      "image/png": {
       "height": 32,
       "width": 32
      }
     },
     "output_type": "display_data"
    },
    {
     "data": {
      "text/plain": [
       "airplane\t-2.198593384904\t\n",
       "automobile\t-2.3034489007731\t\n",
       "bird\t-2.392375778741\t\n",
       "cat\t-2.2255399932649\t\n",
       "deer\t-2.2759254533646\t\n",
       "dog\t-2.2163669895673\t\n",
       "frog\t-2.3975073093142\t\n",
       "horse\t-2.3130539501625\t\n",
       "ship\t-2.3955714736612\t\n",
       "truck\t-2.3332903890295\t\n",
       "frog\t\n"
      ]
     },
     "execution_count": 28,
     "metadata": {},
     "output_type": "execute_result"
    },
    {
     "data": {
      "image/png": "[encoded data removed]",
      "text/plain": [
       "Console does not support images"
      ]
     },
     "metadata": {
      "image/png": {
       "height": 32,
       "width": 32
      }
     },
     "output_type": "display_data"
    },
    {
     "data": {
      "text/plain": [
       "airplane\t-2.1979725573693\t\n",
       "automobile\t-2.2855394425445\t\n",
       "bird\t-2.4002926565662\t\n",
       "cat\t-2.2260687345516\t\n",
       "deer\t-2.3452184460955\t\n",
       "dog\t-2.3012316180451\t\n",
       "frog\t-2.2556142356428\t\n",
       "horse\t-2.2987091645235\t\n",
       "ship\t-2.3297290684691\t\n",
       "truck\t-2.4065234057217\t\n",
       "bird\t\n"
      ]
     },
     "execution_count": 28,
     "metadata": {},
     "output_type": "execute_result"
    },
    {
     "data": {
      "image/png": "[encoded data removed]",
      "text/plain": [
       "Console does not support images"
      ]
     },
     "metadata": {
      "image/png": {
       "height": 32,
       "width": 32
      }
     },
     "output_type": "display_data"
    },
    {
     "data": {
      "text/plain": [
       "airplane\t-2.2183498776011\t\n",
       "automobile\t-2.2714461576495\t\n",
       "bird\t-2.3725872830002\t\n",
       "cat\t-2.209717928881\t\n",
       "deer\t-2.3219092963905\t\n",
       "dog\t-2.3027948928224\t\n",
       "frog\t-2.3009946310485\t\n",
       "horse\t-2.3391128948252\t\n",
       "ship\t-2.376195444287\t\n",
       "truck\t-2.3275229593304\t\n",
       "automobile\t\n"
      ]
     },
     "execution_count": 28,
     "metadata": {},
     "output_type": "execute_result"
    },
    {
     "data": {
      "image/png": "[encoded data removed]",
      "text/plain": [
       "Console does not support images"
      ]
     },
     "metadata": {
      "image/png": {
       "height": 32,
       "width": 32
      }
     },
     "output_type": "display_data"
    },
    {
     "data": {
      "text/plain": [
       "airplane\t-2.2578256253074\t\n",
       "automobile\t-2.2333934020697\t\n",
       "bird\t-2.396902601955\t\n",
       "cat\t-2.1604134871448\t\n",
       "deer\t-2.3053332142927\t\n",
       "dog\t-2.2640809233705\t\n",
       "frog\t-2.4411650083572\t\n",
       "horse\t-2.2913547218814\t\n",
       "ship\t-2.3838208814934\t\n",
       "truck\t-2.3233598782576\t\n",
       "bird\t\n"
      ]
     },
     "execution_count": 28,
     "metadata": {},
     "output_type": "execute_result"
    },
    {
     "data": {
      "image/png": "[encoded data removed]",
      "text/plain": [
       "Console does not support images"
      ]
     },
     "metadata": {
      "image/png": {
       "height": 32,
       "width": 32
      }
     },
     "output_type": "display_data"
    },
    {
     "data": {
      "text/plain": [
       "airplane\t-2.2125177018646\t\n",
       "automobile\t-2.388448967124\t\n",
       "bird\t-2.3228142519834\t\n",
       "cat\t-2.2508029040259\t\n",
       "deer\t-2.3097894761518\t\n",
       "dog\t-2.2224078323312\t\n",
       "frog\t-2.4329559660656\t\n",
       "horse\t-2.1846366833486\t\n",
       "ship\t-2.4261672636533\t\n",
       "truck\t-2.3107111297235\t\n",
       "cat\t\n"
      ]
     },
     "execution_count": 28,
     "metadata": {},
     "output_type": "execute_result"
    },
    {
     "data": {
      "image/png": "[encoded data removed]",
      "text/plain": [
       "Console does not support images"
      ]
     },
     "metadata": {
      "image/png": {
       "height": 32,
       "width": 32
      }
     },
     "output_type": "display_data"
    },
    {
     "data": {
      "text/plain": [
       "airplane\t-2.1818581375194\t\n",
       "automobile\t-2.299227347978\t\n",
       "bird\t-2.3926205442959\t\n",
       "cat\t-2.1786743788991\t\n",
       "deer\t-2.3234107117054\t\n",
       "dog\t-2.3354638112752\t\n",
       "frog\t-2.3265667934248\t\n",
       "horse\t-2.306135912576\t\n",
       "ship\t-2.3705325267962\t\n",
       "truck\t-2.3347034646225\t\n",
       "horse\t\n"
      ]
     },
     "execution_count": 28,
     "metadata": {},
     "output_type": "execute_result"
    },
    {
     "data": {
      "image/png": "[encoded data removed]",
      "text/plain": [
       "Console does not support images"
      ]
     },
     "metadata": {
      "image/png": {
       "height": 32,
       "width": 32
      }
     },
     "output_type": "display_data"
    },
    {
     "data": {
      "text/plain": [
       "airplane\t-2.2249186222648\t\n",
       "automobile\t-2.3145405207025\t\n",
       "bird\t-2.3368771827943\t\n",
       "cat\t-2.2247254291575\t\n",
       "deer\t-2.3267855179957\t\n",
       "dog\t-2.2544264928386\t\n",
       "frog\t-2.3747941717909\t\n",
       "horse\t-2.2582166274925\t\n",
       "ship\t-2.3588314516571\t\n",
       "truck\t-2.3672038642131\t\n",
       "bird\t\n"
      ]
     },
     "execution_count": 28,
     "metadata": {},
     "output_type": "execute_result"
    },
    {
     "data": {
      "image/png": "[encoded data removed]",
      "text/plain": [
       "Console does not support images"
      ]
     },
     "metadata": {
      "image/png": {
       "height": 32,
       "width": 32
      }
     },
     "output_type": "display_data"
    },
    {
     "data": {
      "text/plain": [
       "airplane\t-2.2631507341871\t\n",
       "automobile\t-2.2064604749965\t\n",
       "bird\t-2.3981857422221\t\n",
       "cat\t-2.2500280153158\t\n",
       "deer\t-2.2852910054642\t\n",
       "dog\t-2.2423232450646\t\n",
       "frog\t-2.3694955717135\t\n",
       "horse\t-2.3439845385731\t\n",
       "ship\t-2.3379348764308\t\n",
       "truck\t-2.3470173872029\t\n",
       "frog\t\n"
      ]
     },
     "execution_count": 28,
     "metadata": {},
     "output_type": "execute_result"
    },
    {
     "data": {
      "image/png": "[encoded data removed]",
      "text/plain": [
       "Console does not support images"
      ]
     },
     "metadata": {
      "image/png": {
       "height": 32,
       "width": 32
      }
     },
     "output_type": "display_data"
    },
    {
     "data": {
      "text/plain": [
       "airplane\t-2.2250945275095\t\n",
       "automobile\t-2.2299350723279\t\n",
       "bird\t-2.3807318670718\t\n",
       "cat\t-2.174054914124\t\n",
       "deer\t-2.3547982009149\t\n",
       "dog\t-2.290277390458\t\n",
       "frog\t-2.3385818982596\t\n",
       "horse\t-2.330815206312\t\n",
       "ship\t-2.380188455144\t\n",
       "truck\t-2.3450337123579\t\n",
       "ship\t\n"
      ]
     },
     "execution_count": 28,
     "metadata": {},
     "output_type": "execute_result"
    },
    {
     "data": {
      "image/png": "[encoded data removed]",
      "text/plain": [
       "Console does not support images"
      ]
     },
     "metadata": {
      "image/png": {
       "height": 32,
       "width": 32
      }
     },
     "output_type": "display_data"
    },
    {
     "data": {
      "text/plain": [
       "airplane\t-2.2543527485687\t\n",
       "automobile\t-2.2161924211538\t\n",
       "bird\t-2.3683881704876\t\n",
       "cat\t-2.2029817179041\t\n",
       "deer\t-2.3147481337423\t\n",
       "dog\t-2.256357247181\t\n",
       "frog\t-2.3528052565433\t\n",
       "horse\t-2.3799614541174\t\n",
       "ship\t-2.3472658023545\t\n",
       "truck\t-2.3525998152025\t\n",
       "ship\t\n"
      ]
     },
     "execution_count": 28,
     "metadata": {},
     "output_type": "execute_result"
    },
    {
     "data": {
      "image/png": "[encoded data removed]",
      "text/plain": [
       "Console does not support images"
      ]
     },
     "metadata": {
      "image/png": {
       "height": 32,
       "width": 32
      }
     },
     "output_type": "display_data"
    },
    {
     "data": {
      "text/plain": [
       "airplane\t-2.2431281784025\t\n",
       "automobile\t-2.2468946145113\t\n",
       "bird\t-2.365348520422\t\n",
       "cat\t-2.2019240549477\t\n",
       "deer\t-2.3290575905112\t\n",
       "dog\t-2.2740946396143\t\n",
       "frog\t-2.3427189749792\t\n",
       "horse\t-2.3453889816275\t\n",
       "ship\t-2.37786954601\t\n",
       "truck\t-2.3152777959636\t\n",
       "airplane\t\n"
      ]
     },
     "execution_count": 28,
     "metadata": {},
     "output_type": "execute_result"
    },
    {
     "data": {
      "image/png": "[encoded data removed]",
      "text/plain": [
       "Console does not support images"
      ]
     },
     "metadata": {
      "image/png": {
       "height": 32,
       "width": 32
      }
     },
     "output_type": "display_data"
    },
    {
     "data": {
      "text/plain": [
       "airplane\t-2.2210109149197\t\n",
       "automobile\t-2.2290009120013\t\n",
       "bird\t-2.4398038367773\t\n",
       "cat\t-2.2148190872318\t\n",
       "deer\t-2.3211453492018\t\n",
       "dog\t-2.2766116371716\t\n",
       "frog\t-2.4314497954761\t\n",
       "horse\t-2.2696843943752\t\n",
       "ship\t-2.3366327928073\t\n",
       "truck\t-2.3145117552555\t\n",
       "bird\t\n"
      ]
     },
     "execution_count": 28,
     "metadata": {},
     "output_type": "execute_result"
    },
    {
     "data": {
      "image/png": "[encoded data removed]",
      "text/plain": [
       "Console does not support images"
      ]
     },
     "metadata": {
      "image/png": {
       "height": 32,
       "width": 32
      }
     },
     "output_type": "display_data"
    },
    {
     "data": {
      "text/plain": [
       "airplane\t-2.1959453756369\t\n",
       "automobile\t-2.2576615139475\t\n",
       "bird\t-2.3614261628376\t\n",
       "cat\t-2.232554711413\t\n",
       "deer\t-2.305752324173\t\n",
       "dog\t-2.3060343021676\t\n",
       "frog\t-2.3789608939978\t\n",
       "horse\t-2.2476653643103\t\n",
       "ship\t-2.3458663336354\t\n",
       "truck\t-2.416693730674\t\n",
       "truck\t\n"
      ]
     },
     "execution_count": 28,
     "metadata": {},
     "output_type": "execute_result"
    },
    {
     "data": {
      "image/png": "[encoded data removed]",
      "text/plain": [
       "Console does not support images"
      ]
     },
     "metadata": {
      "image/png": {
       "height": 32,
       "width": 32
      }
     },
     "output_type": "display_data"
    },
    {
     "data": {
      "text/plain": [
       "airplane\t-2.2254259373369\t\n",
       "automobile\t-2.3145484697549\t\n",
       "bird\t-2.4308803887329\t\n",
       "cat\t-2.1349029137469\t\n",
       "deer\t-2.3496552020342\t\n",
       "dog\t-2.2994075002733\t\n",
       "frog\t-2.3277680797454\t\n",
       "horse\t-2.253290822512\t\n",
       "ship\t-2.3562572593035\t\n",
       "truck\t-2.365613310691\t\n",
       "cat\t\n"
      ]
     },
     "execution_count": 28,
     "metadata": {},
     "output_type": "execute_result"
    },
    {
     "data": {
      "image/png": "[encoded data removed]",
      "text/plain": [
       "Console does not support images"
      ]
     },
     "metadata": {
      "image/png": {
       "height": 32,
       "width": 32
      }
     },
     "output_type": "display_data"
    },
    {
     "data": {
      "text/plain": [
       "airplane\t-2.2217520688462\t\n",
       "automobile\t-2.2356099720874\t\n",
       "bird\t-2.3930505967271\t\n",
       "cat\t-2.1872718577945\t\n",
       "deer\t-2.331254464675\t\n",
       "dog\t-2.3261327224787\t\n",
       "frog\t-2.3355186808583\t\n",
       "horse\t-2.3320910814923\t\n",
       "ship\t-2.3987741140605\t\n",
       "truck\t-2.2871791923065\t\n",
       "cat\t\n"
      ]
     },
     "execution_count": 28,
     "metadata": {},
     "output_type": "execute_result"
    },
    {
     "data": {
      "image/png": "[encoded data removed]",
      "text/plain": [
       "Console does not support images"
      ]
     },
     "metadata": {
      "image/png": {
       "height": 32,
       "width": 32
      }
     },
     "output_type": "display_data"
    },
    {
     "data": {
      "text/plain": [
       "airplane\t-2.2178039491472\t\n",
       "automobile\t-2.2387903367385\t\n",
       "bird\t-2.38823992596\t\n",
       "cat\t-2.1372974037289\t\n",
       "deer\t-2.329516046472\t\n",
       "dog\t-2.3164000461467\t\n",
       "frog\t-2.2508131461975\t\n",
       "horse\t-2.3860472556307\t\n",
       "ship\t-2.3948296031062\t\n",
       "truck\t-2.4042280819366\t\n",
       "ship\t\n"
      ]
     },
     "execution_count": 28,
     "metadata": {},
     "output_type": "execute_result"
    },
    {
     "data": {
      "image/png": "[encoded data removed]",
      "text/plain": [
       "Console does not support images"
      ]
     },
     "metadata": {
      "image/png": {
       "height": 32,
       "width": 32
      }
     },
     "output_type": "display_data"
    },
    {
     "data": {
      "text/plain": [
       "airplane\t-2.2864927047694\t\n",
       "automobile\t-2.264282627997\t\n",
       "bird\t-2.3994911906797\t\n",
       "cat\t-2.1960471562383\t\n",
       "deer\t-2.3147919802589\t\n",
       "dog\t-2.2070337345434\t\n",
       "frog\t-2.3860718439817\t\n",
       "horse\t-2.3549320507149\t\n",
       "ship\t-2.3387993682261\t\n",
       "truck\t-2.2993886773193\t\n",
       "ship\t\n"
      ]
     },
     "execution_count": 28,
     "metadata": {},
     "output_type": "execute_result"
    },
    {
     "data": {
      "image/png": "[encoded data removed]",
      "text/plain": [
       "Console does not support images"
      ]
     },
     "metadata": {
      "image/png": {
       "height": 32,
       "width": 32
      }
     },
     "output_type": "display_data"
    },
    {
     "data": {
      "text/plain": [
       "airplane\t-2.243618799401\t\n",
       "automobile\t-2.2435627520586\t\n",
       "bird\t-2.3818837344166\t\n",
       "cat\t-2.2464515974806\t\n",
       "deer\t-2.3197519590432\t\n",
       "dog\t-2.2471864226885\t\n",
       "frog\t-2.3576008614893\t\n",
       "horse\t-2.2836068315087\t\n",
       "ship\t-2.3408997643354\t\n",
       "truck\t-2.3762559987171\t\n",
       "automobile\t\n"
      ]
     },
     "execution_count": 28,
     "metadata": {},
     "output_type": "execute_result"
    },
    {
     "data": {
      "image/png": "[encoded data removed]",
      "text/plain": [
       "Console does not support images"
      ]
     },
     "metadata": {
      "image/png": {
       "height": 32,
       "width": 32
      }
     },
     "output_type": "display_data"
    },
    {
     "data": {
      "text/plain": [
       "airplane\t-2.2524943460564\t\n",
       "automobile\t-2.1414994712155\t\n",
       "bird\t-2.3856634483507\t\n",
       "cat\t-2.1669182172182\t\n",
       "deer\t-2.293941399913\t\n",
       "dog\t-2.3412885047735\t\n",
       "frog\t-2.2562023146523\t\n",
       "horse\t-2.3938227661624\t\n",
       "ship\t-2.3556309739734\t\n",
       "truck\t-2.4901938984941\t\n",
       "automobile\t\n"
      ]
     },
     "execution_count": 28,
     "metadata": {},
     "output_type": "execute_result"
    },
    {
     "data": {
      "image/png": "[encoded data removed]",
      "text/plain": [
       "Console does not support images"
      ]
     },
     "metadata": {
      "image/png": {
       "height": 32,
       "width": 32
      }
     },
     "output_type": "display_data"
    },
    {
     "data": {
      "text/plain": [
       "airplane\t-2.2087191396432\t\n",
       "automobile\t-2.2402392797827\t\n",
       "bird\t-2.359023060389\t\n",
       "cat\t-2.2019577164469\t\n",
       "deer\t-2.288160480327\t\n",
       "dog\t-2.2709505710413\t\n",
       "frog\t-2.4045443191647\t\n",
       "horse\t-2.3335794727747\t\n",
       "ship\t-2.381758010627\t\n",
       "truck\t-2.3610931465806\t\n",
       "horse\t\n"
      ]
     },
     "execution_count": 28,
     "metadata": {},
     "output_type": "execute_result"
    },
    {
     "data": {
      "image/png": "[encoded data removed]",
      "text/plain": [
       "Console does not support images"
      ]
     },
     "metadata": {
      "image/png": {
       "height": 32,
       "width": 32
      }
     },
     "output_type": "display_data"
    },
    {
     "data": {
      "text/plain": [
       "airplane\t-2.2375859812612\t\n",
       "automobile\t-2.2790989701897\t\n",
       "bird\t-2.3350070367846\t\n",
       "cat\t-2.1943970630632\t\n",
       "deer\t-2.3215457588863\t\n",
       "dog\t-2.2474654381166\t\n",
       "frog\t-2.3586040112477\t\n",
       "horse\t-2.3350141896329\t\n",
       "ship\t-2.3625837179292\t\n",
       "truck\t-2.371442889169\t\n",
       "bird\t\n"
      ]
     },
     "execution_count": 28,
     "metadata": {},
     "output_type": "execute_result"
    },
    {
     "data": {
      "image/png": "[encoded data removed]",
      "text/plain": [
       "Console does not support images"
      ]
     },
     "metadata": {
      "image/png": {
       "height": 32,
       "width": 32
      }
     },
     "output_type": "display_data"
    },
    {
     "data": {
      "text/plain": [
       "airplane\t-2.2729836401252\t\n",
       "automobile\t-2.2257517056504\t\n",
       "bird\t-2.3668219182594\t\n",
       "cat\t-2.2106144174089\t\n",
       "deer\t-2.3356517528398\t\n",
       "dog\t-2.2275060155814\t\n",
       "frog\t-2.3374555645599\t\n",
       "horse\t-2.3099763027765\t\n",
       "ship\t-2.3247059195571\t\n",
       "truck\t-2.437206984999\t\n",
       "dog\t\n"
      ]
     },
     "execution_count": 28,
     "metadata": {},
     "output_type": "execute_result"
    },
    {
     "data": {
      "image/png": "[encoded data removed]",
      "text/plain": [
       "Console does not support images"
      ]
     },
     "metadata": {
      "image/png": {
       "height": 32,
       "width": 32
      }
     },
     "output_type": "display_data"
    },
    {
     "data": {
      "text/plain": [
       "airplane\t-2.2170705988112\t\n",
       "automobile\t-2.2543833093308\t\n",
       "bird\t-2.4051585623364\t\n",
       "cat\t-2.2413894365486\t\n",
       "deer\t-2.3250679286416\t\n",
       "dog\t-2.2849344397626\t\n",
       "frog\t-2.3967087736659\t\n",
       "horse\t-2.201342748437\t\n",
       "ship\t-2.3449094822903\t\n",
       "truck\t-2.3806845690413\t\n",
       "bird\t\n"
      ]
     },
     "execution_count": 28,
     "metadata": {},
     "output_type": "execute_result"
    },
    {
     "data": {
      "image/png": "[encoded data removed]",
      "text/plain": [
       "Console does not support images"
      ]
     },
     "metadata": {
      "image/png": {
       "height": 32,
       "width": 32
      }
     },
     "output_type": "display_data"
    },
    {
     "data": {
      "text/plain": [
       "airplane\t-2.1298255102713\t\n",
       "automobile\t-2.2986198359481\t\n",
       "bird\t-2.238140729259\t\n",
       "cat\t-2.1763369444197\t\n",
       "deer\t-2.4111188667396\t\n",
       "dog\t-2.3979147587941\t\n",
       "frog\t-2.3256630802858\t\n",
       "horse\t-2.2443450073117\t\n",
       "ship\t-2.4299370777918\t\n",
       "truck\t-2.4275641357555\t\n",
       "horse\t\n"
      ]
     },
     "execution_count": 28,
     "metadata": {},
     "output_type": "execute_result"
    },
    {
     "data": {
      "image/png": "[encoded data removed]",
      "text/plain": [
       "Console does not support images"
      ]
     },
     "metadata": {
      "image/png": {
       "height": 32,
       "width": 32
      }
     },
     "output_type": "display_data"
    },
    {
     "data": {
      "text/plain": [
       "airplane\t-2.2178424257308\t\n",
       "automobile\t-2.2384579771697\t\n",
       "bird\t-2.3003567459488\t\n",
       "cat\t-2.2270895890523\t\n",
       "deer\t-2.3273457451064\t\n",
       "dog\t-2.224969725685\t\n",
       "frog\t-2.3851358169172\t\n",
       "horse\t-2.359254245404\t\n",
       "ship\t-2.4006838578475\t\n",
       "truck\t-2.3685059996031\t\n",
       "ship\t\n"
      ]
     },
     "execution_count": 28,
     "metadata": {},
     "output_type": "execute_result"
    },
    {
     "data": {
      "image/png": "[encoded data removed]",
      "text/plain": [
       "Console does not support images"
      ]
     },
     "metadata": {
      "image/png": {
       "height": 32,
       "width": 32
      }
     },
     "output_type": "display_data"
    },
    {
     "data": {
      "text/plain": [
       "airplane\t-2.2296338159189\t\n",
       "automobile\t-2.2066170639837\t\n",
       "bird\t-2.3556376619532\t\n",
       "cat\t-2.2309140496615\t\n",
       "deer\t-2.3120379566256\t\n",
       "dog\t-2.2681803826671\t\n",
       "frog\t-2.37961099784\t\n",
       "horse\t-2.2890348992809\t\n",
       "ship\t-2.3523118145563\t\n",
       "truck\t-2.4254612384166\t\n",
       "truck\t\n"
      ]
     },
     "execution_count": 28,
     "metadata": {},
     "output_type": "execute_result"
    },
    {
     "data": {
      "image/png": "[encoded data removed]",
      "text/plain": [
       "Console does not support images"
      ]
     },
     "metadata": {
      "image/png": {
       "height": 32,
       "width": 32
      }
     },
     "output_type": "display_data"
    },
    {
     "data": {
      "text/plain": [
       "airplane\t-2.2387086836609\t\n",
       "automobile\t-2.2457300082532\t\n",
       "bird\t-2.3796694826641\t\n",
       "cat\t-2.1700157997094\t\n",
       "deer\t-2.2960158199545\t\n",
       "dog\t-2.2721345909172\t\n",
       "frog\t-2.3910142597017\t\n",
       "horse\t-2.3206517647938\t\n",
       "ship\t-2.4096213123289\t\n",
       "truck\t-2.3284151301232\t\n",
       "airplane\t"
      ]
     },
     "execution_count": 28,
     "metadata": {},
     "output_type": "execute_result"
    },
    {
     "data": {
      "text/plain": [
       "\n"
      ]
     },
     "execution_count": 28,
     "metadata": {},
     "output_type": "execute_result"
    },
    {
     "data": {
      "image/png": "[encoded data removed]",
      "text/plain": [
       "Console does not support images"
      ]
     },
     "metadata": {
      "image/png": {
       "height": 32,
       "width": 32
      }
     },
     "output_type": "display_data"
    },
    {
     "data": {
      "text/plain": [
       "airplane\t-2.251843641501\t\n",
       "automobile\t-2.2499158883135\t\n",
       "bird\t-2.3954767934952\t\n",
       "cat\t-2.2233485466258\t\n",
       "deer\t-2.3087785917225\t\n",
       "dog\t-2.2278174628522\t\n",
       "frog\t-2.3877696228823\t\n",
       "horse\t-2.2917867437374\t\n",
       "ship\t-2.3609858658545\t\n",
       "truck\t-2.347389112337\t\n",
       "cat\t\n"
      ]
     },
     "execution_count": 28,
     "metadata": {},
     "output_type": "execute_result"
    },
    {
     "data": {
      "image/png": "[encoded data removed]",
      "text/plain": [
       "Console does not support images"
      ]
     },
     "metadata": {
      "image/png": {
       "height": 32,
       "width": 32
      }
     },
     "output_type": "display_data"
    },
    {
     "data": {
      "text/plain": [
       "airplane\t-2.211070108781\t\n",
       "automobile\t-2.2194488025862\t\n",
       "bird\t-2.4296812399583\t\n",
       "cat\t-2.1963481794534\t\n",
       "deer\t-2.330924708199\t\n",
       "dog\t-2.2665184549606\t\n",
       "frog\t-2.3009206417415\t\n",
       "horse\t-2.3328779465497\t\n",
       "ship\t-2.3509436450722\t\n",
       "truck\t-2.4176142463348\t\n",
       "ship\t\n"
      ]
     },
     "execution_count": 28,
     "metadata": {},
     "output_type": "execute_result"
    },
    {
     "data": {
      "image/png": "[encoded data removed]",
      "text/plain": [
       "Console does not support images"
      ]
     },
     "metadata": {
      "image/png": {
       "height": 32,
       "width": 32
      }
     },
     "output_type": "display_data"
    },
    {
     "data": {
      "text/plain": [
       "airplane\t-2.2099374439236\t\n",
       "automobile\t-2.2714033067181\t\n",
       "bird\t-2.2642729482576\t\n",
       "cat\t-2.1815538285244\t\n",
       "deer\t-2.3435571566554\t\n",
       "dog\t-2.2406920330497\t\n",
       "frog\t-2.4279627468143\t\n",
       "horse\t-2.3703895628089\t\n",
       "ship\t-2.4213466093172\t\n",
       "truck\t-2.3276924478353\t\n",
       "frog\t\n"
      ]
     },
     "execution_count": 28,
     "metadata": {},
     "output_type": "execute_result"
    },
    {
     "data": {
      "image/png": "[encoded data removed]",
      "text/plain": [
       "Console does not support images"
      ]
     },
     "metadata": {
      "image/png": {
       "height": 32,
       "width": 32
      }
     },
     "output_type": "display_data"
    },
    {
     "data": {
      "text/plain": [
       "airplane\t-2.1905308930266\t\n",
       "automobile\t-2.2817012525238\t\n",
       "bird\t-2.3709365104988\t\n",
       "cat\t-2.2672457073194\t\n",
       "deer\t-2.2981744254576\t\n",
       "dog\t-2.2946794326639\t\n",
       "frog\t-2.3831563127397\t\n",
       "horse\t-2.2116293020696\t\n",
       "ship\t-2.3676348920109\t\n",
       "truck\t-2.3824602058394\t\n",
       "deer\t\n"
      ]
     },
     "execution_count": 28,
     "metadata": {},
     "output_type": "execute_result"
    },
    {
     "data": {
      "image/png": "[encoded data removed]",
      "text/plain": [
       "Console does not support images"
      ]
     },
     "metadata": {
      "image/png": {
       "height": 32,
       "width": 32
      }
     },
     "output_type": "display_data"
    },
    {
     "data": {
      "text/plain": [
       "airplane\t-2.2279024265128\t\n",
       "automobile\t-2.2206026654054\t\n",
       "bird\t-2.3576272420708\t\n",
       "cat\t-2.1967810082863\t\n",
       "deer\t-2.305129566655\t\n",
       "dog\t-2.3221575459281\t\n",
       "frog\t-2.3606134579492\t\n",
       "horse\t-2.3316024887978\t\n",
       "ship\t-2.3697839749086\t\n",
       "truck\t-2.352970170525\t\n",
       "frog\t\n"
      ]
     },
     "execution_count": 28,
     "metadata": {},
     "output_type": "execute_result"
    },
    {
     "data": {
      "image/png": "[encoded data removed]",
      "text/plain": [
       "Console does not support images"
      ]
     },
     "metadata": {
      "image/png": {
       "height": 32,
       "width": 32
      }
     },
     "output_type": "display_data"
    },
    {
     "data": {
      "text/plain": [
       "airplane\t-2.1888487775457\t\n",
       "automobile\t-2.2596267660101\t\n",
       "bird\t-2.3818876326755\t\n",
       "cat\t-2.2275296229196\t\n",
       "deer\t-2.3299131199303\t\n",
       "dog\t-2.3215027495553\t\n",
       "frog\t-2.3365801461487\t\n",
       "horse\t-2.2702654201122\t\n",
       "ship\t-2.3480865956903\t\n",
       "truck\t-2.3808706070263\t\n",
       "frog\t\n"
      ]
     },
     "execution_count": 28,
     "metadata": {},
     "output_type": "execute_result"
    },
    {
     "data": {
      "image/png": "[encoded data removed]",
      "text/plain": [
       "Console does not support images"
      ]
     },
     "metadata": {
      "image/png": {
       "height": 32,
       "width": 32
      }
     },
     "output_type": "display_data"
    },
    {
     "data": {
      "text/plain": [
       "airplane\t-2.220745156144\t\n",
       "automobile\t-2.2577619785848\t\n",
       "bird\t-2.4104106039268\t\n",
       "cat\t-2.177233604716\t\n",
       "deer\t-2.3516152722964\t\n",
       "dog\t-2.3198470466107\t\n",
       "frog\t-2.339719909159\t\n",
       "horse\t-2.2375196323226\t\n",
       "ship\t-2.3742156160607\t\n",
       "truck\t-2.3635507338866\t\n",
       "airplane\t\n"
      ]
     },
     "execution_count": 28,
     "metadata": {},
     "output_type": "execute_result"
    },
    {
     "data": {
      "image/png": "[encoded data removed]",
      "text/plain": [
       "Console does not support images"
      ]
     },
     "metadata": {
      "image/png": {
       "height": 32,
       "width": 32
      }
     },
     "output_type": "display_data"
    },
    {
     "data": {
      "text/plain": [
       "airplane\t-2.2461177639449\t\n",
       "automobile\t-2.1879730447585\t\n",
       "bird\t-2.3732334274529\t\n",
       "cat\t-2.2204979561611\t\n",
       "deer\t-2.3146897506442\t\n",
       "dog\t-2.2719585873467\t\n",
       "frog\t-2.3269148410955\t\n",
       "horse\t-2.3843758341478\t\n",
       "ship\t-2.3727235305398\t\n",
       "truck\t-2.3492912666473\t\n",
       "airplane\t\n"
      ]
     },
     "execution_count": 28,
     "metadata": {},
     "output_type": "execute_result"
    },
    {
     "data": {
      "image/png": "[encoded data removed]",
      "text/plain": [
       "Console does not support images"
      ]
     },
     "metadata": {
      "image/png": {
       "height": 32,
       "width": 32
      }
     },
     "output_type": "display_data"
    },
    {
     "data": {
      "text/plain": [
       "airplane\t-2.2624020542687\t\n",
       "automobile\t-2.3681126537599\t\n",
       "bird\t-2.2782896425247\t\n",
       "cat\t-2.1810398204415\t\n",
       "deer\t-2.2913934594893\t\n",
       "dog\t-2.2926682190216\t\n",
       "frog\t-2.3104738100989\t\n",
       "horse\t-2.2678513593591\t\n",
       "ship\t-2.4072878348227\t\n",
       "truck\t-2.3867357158085\t\n",
       "horse\t\n"
      ]
     },
     "execution_count": 28,
     "metadata": {},
     "output_type": "execute_result"
    },
    {
     "data": {
      "image/png": "[encoded data removed]",
      "text/plain": [
       "Console does not support images"
      ]
     },
     "metadata": {
      "image/png": {
       "height": 32,
       "width": 32
      }
     },
     "output_type": "display_data"
    },
    {
     "data": {
      "text/plain": [
       "airplane\t-2.1962890029064\t\n",
       "automobile\t-2.2396646390557\t\n",
       "bird\t-2.3204448135926\t\n",
       "cat\t-2.19635679382\t\n",
       "deer\t-2.341083113417\t\n",
       "dog\t-2.3322400523115\t\n",
       "frog\t-2.3130132664721\t\n",
       "horse\t-2.2979310007844\t\n",
       "ship\t-2.4122868869107\t\n",
       "truck\t-2.4022663396465\t\n"
      ]
     },
     "execution_count": 28,
     "metadata": {},
     "output_type": "execute_result"
    }
   ],
   "source": [
    "for j=1,100 do\n",
    "    print(classes[testset.label[j]])\n",
    "    itorch.image(testset.data[j])\n",
    "    predicted = net:forward(testset.data[j])\n",
    "    for i=1,predicted:size(1) do\n",
    "        print(classes[i], predicted[i])\n",
    "    end\n",
    "end"
   ]
  },
  {
   "cell_type": "code",
   "execution_count": 15,
   "metadata": {
    "collapsed": false
   },
   "outputs": [
    {
     "data": {
      "text/plain": [
       "airplane\t-0.6286669238626\t\n",
       "automobile\t-5.1320282521955\t\n",
       "bird\t-4.0228367310445\t\n",
       "cat\t-1.2291132696034\t\n",
       "deer\t-3.6684096266702\t\n",
       "dog\t-6.0169452493418\t\n",
       "frog\t-6.2993962063605\t\n",
       "horse\t-2.4274976300882\t\n",
       "ship\t-6.7313345581791\t\n",
       "truck\t-3.4733122610114\t\n"
      ]
     },
     "execution_count": 15,
     "metadata": {},
     "output_type": "execute_result"
    }
   ],
   "source": []
  },
  {
   "cell_type": "code",
   "execution_count": null,
   "metadata": {
    "collapsed": true
   },
   "outputs": [],
   "source": []
  }
 ],
 "metadata": {
  "kernelspec": {
   "display_name": "iTorch",
   "language": "lua",
   "name": "itorch"
  },
  "language_info": {
   "name": "lua",
   "version": "20100"
  }
 },
 "nbformat": 4,
 "nbformat_minor": 0
}
