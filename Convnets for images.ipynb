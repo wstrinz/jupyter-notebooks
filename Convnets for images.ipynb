{
 "cells": [
  {
   "cell_type": "code",
   "execution_count": 1,
   "metadata": {
    "collapsed": false
   },
   "outputs": [],
   "source": [
    "require 'torch'\n",
    "require 'nn'\n",
    "-- cltorch.setDevice(1)"
   ]
  },
  {
   "cell_type": "code",
   "execution_count": 2,
   "metadata": {
    "collapsed": true
   },
   "outputs": [],
   "source": [
    "trainset = torch.load('cifar10-train.t7')"
   ]
  },
  {
   "cell_type": "code",
   "execution_count": 3,
   "metadata": {
    "collapsed": true
   },
   "outputs": [],
   "source": [
    "testset = torch.load('cifar10-test.t7')\n",
    "classes = {'airplane', 'automobile', 'bird', 'cat',\n",
    "           'deer', 'dog', 'frog', 'horse', 'ship', 'truck'}"
   ]
  },
  {
   "cell_type": "code",
   "execution_count": 4,
   "metadata": {
    "collapsed": false
   },
   "outputs": [],
   "source": [
    "setmetatable(trainset, \n",
    "    {__index = function(t, i) \n",
    "                    return {t.data[i], t.label[i]} \n",
    "                end}\n",
    ");\n",
    "trainset.data = trainset.data:double() -- convert the data from a ByteTensor to a DoubleTensor.\n",
    "\n",
    "function trainset:size() \n",
    "    return self.data:size(1) \n",
    "end"
   ]
  },
  {
   "cell_type": "code",
   "execution_count": 5,
   "metadata": {
    "collapsed": false
   },
   "outputs": [
    {
     "data": {
      "text/plain": [
       "Channel 1, Mean: 125.83175029297\t\n"
      ]
     },
     "execution_count": 5,
     "metadata": {},
     "output_type": "execute_result"
    },
    {
     "data": {
      "text/plain": [
       "Channel 1, Standard Deviation: 63.143400842609\t\n"
      ]
     },
     "execution_count": 5,
     "metadata": {},
     "output_type": "execute_result"
    },
    {
     "data": {
      "text/plain": [
       "Channel 2, Mean: 123.26066621094\t\n"
      ]
     },
     "execution_count": 5,
     "metadata": {},
     "output_type": "execute_result"
    },
    {
     "data": {
      "text/plain": [
       "Channel 2, Standard Deviation: 62.369209019002\t\n"
      ]
     },
     "execution_count": 5,
     "metadata": {},
     "output_type": "execute_result"
    },
    {
     "data": {
      "text/plain": [
       "Channel 3, Mean: 114.03068681641\t\n"
      ]
     },
     "execution_count": 5,
     "metadata": {},
     "output_type": "execute_result"
    },
    {
     "data": {
      "text/plain": [
       "Channel 3, Standard Deviation: 66.965808411114\t\n"
      ]
     },
     "execution_count": 5,
     "metadata": {},
     "output_type": "execute_result"
    }
   ],
   "source": [
    "mean = {} -- store the mean, to normalize the test set in the future\n",
    "stdv  = {} -- store the standard-deviation for the future\n",
    "for i=1,3 do -- over each image channel\n",
    "    mean[i] = trainset.data[{ {}, {i}, {}, {}  }]:mean() -- mean estimation\n",
    "    print('Channel ' .. i .. ', Mean: ' .. mean[i])\n",
    "    trainset.data[{ {}, {i}, {}, {}  }]:add(-mean[i]) -- mean subtraction\n",
    "    \n",
    "    stdv[i] = trainset.data[{ {}, {i}, {}, {}  }]:std() -- std estimation\n",
    "    print('Channel ' .. i .. ', Standard Deviation: ' .. stdv[i])\n",
    "    trainset.data[{ {}, {i}, {}, {}  }]:div(stdv[i]) -- std scaling\n",
    "end"
   ]
  },
  {
   "cell_type": "code",
   "execution_count": 6,
   "metadata": {
    "collapsed": false
   },
   "outputs": [],
   "source": [
    "criterion = nn.ClassNLLCriterion()"
   ]
  },
  {
   "cell_type": "code",
   "execution_count": 7,
   "metadata": {
    "collapsed": false
   },
   "outputs": [],
   "source": [
    "net = nn.Sequential()\n",
    "net:add(nn.SpatialConvolution(3, 6, 5, 5)) -- 3 input image channels, 6 output channels, 5x5 convolution kernel\n",
    "net:add(nn.SpatialMaxPooling(2,2,2,2))     -- A max-pooling operation that looks at 2x2 windows and finds the max.\n",
    "net:add(nn.SpatialConvolution(6, 16, 5, 5))\n",
    "net:add(nn.SpatialMaxPooling(2,2,2,2))\n",
    "net:add(nn.View(16*5*5))                    -- reshapes from a 3D tensor of 16x5x5 into 1D tensor of 16*5*5\n",
    "net:add(nn.Linear(16*5*5, 120))             -- fully connected layer (matrix multiplication between input and weights)\n",
    "net:add(nn.Linear(120, 84))\n",
    "net:add(nn.Linear(84, 10))                   -- 10 is the number of outputs of the network (in this case, 10 digits)\n",
    "net:add(nn.LogSoftMax())            -- converts the output to a log-probability. Useful for classification problems"
   ]
  },
  {
   "cell_type": "code",
   "execution_count": 8,
   "metadata": {
    "collapsed": false
   },
   "outputs": [],
   "source": [
    "shorttrainer = nn.StochasticGradient(net, criterion)\n",
    "shorttrainer.learningRate = 0.001\n",
    "shorttrainer.maxIteration = 25 -- just do 5 epochs of training."
   ]
  },
  {
   "cell_type": "code",
   "execution_count": 9,
   "metadata": {
    "collapsed": false
   },
   "outputs": [
    {
     "data": {
      "text/plain": [
       "# StochasticGradient: training\t\n"
      ]
     },
     "execution_count": 9,
     "metadata": {},
     "output_type": "execute_result"
    },
    {
     "data": {
      "text/plain": [
       "# current error = 1.9581768871495\t\n"
      ]
     },
     "execution_count": 9,
     "metadata": {},
     "output_type": "execute_result"
    },
    {
     "data": {
      "text/plain": [
       "# current error = 1.6718835041189\t\n"
      ]
     },
     "execution_count": 9,
     "metadata": {},
     "output_type": "execute_result"
    },
    {
     "data": {
      "text/plain": [
       "# current error = 1.5570486070792\t\n"
      ]
     },
     "execution_count": 9,
     "metadata": {},
     "output_type": "execute_result"
    },
    {
     "data": {
      "text/plain": [
       "# current error = 1.4810005267469\t\n"
      ]
     },
     "execution_count": 9,
     "metadata": {},
     "output_type": "execute_result"
    },
    {
     "data": {
      "text/plain": [
       "# current error = 1.4189695844086\t\n"
      ]
     },
     "execution_count": 9,
     "metadata": {},
     "output_type": "execute_result"
    },
    {
     "data": {
      "text/plain": [
       "# current error = 1.3673584561387\t\n"
      ]
     },
     "execution_count": 9,
     "metadata": {},
     "output_type": "execute_result"
    },
    {
     "data": {
      "text/plain": [
       "# current error = 1.3253869931426\t\n"
      ]
     },
     "execution_count": 9,
     "metadata": {},
     "output_type": "execute_result"
    },
    {
     "data": {
      "text/plain": [
       "# current error = 1.2891060745735\t\n"
      ]
     },
     "execution_count": 9,
     "metadata": {},
     "output_type": "execute_result"
    },
    {
     "data": {
      "text/plain": [
       "# current error = 1.25721470086\t\n"
      ]
     },
     "execution_count": 9,
     "metadata": {},
     "output_type": "execute_result"
    },
    {
     "data": {
      "text/plain": [
       "# current error = 1.2285600889006\t\n"
      ]
     },
     "execution_count": 9,
     "metadata": {},
     "output_type": "execute_result"
    },
    {
     "data": {
      "text/plain": [
       "# current error = 1.2026231673735\t\n"
      ]
     },
     "execution_count": 9,
     "metadata": {},
     "output_type": "execute_result"
    },
    {
     "data": {
      "text/plain": [
       "# current error = 1.1788496420829\t\n"
      ]
     },
     "execution_count": 9,
     "metadata": {},
     "output_type": "execute_result"
    },
    {
     "data": {
      "text/plain": [
       "# current error = 1.1569696923519\t\n"
      ]
     },
     "execution_count": 9,
     "metadata": {},
     "output_type": "execute_result"
    },
    {
     "data": {
      "text/plain": [
       "# current error = 1.1374519836675\t\n"
      ]
     },
     "execution_count": 9,
     "metadata": {},
     "output_type": "execute_result"
    },
    {
     "data": {
      "text/plain": [
       "# current error = 1.1201281333449\t\n"
      ]
     },
     "execution_count": 9,
     "metadata": {},
     "output_type": "execute_result"
    },
    {
     "data": {
      "text/plain": [
       "# current error = 1.1038030682727\t\n"
      ]
     },
     "execution_count": 9,
     "metadata": {},
     "output_type": "execute_result"
    },
    {
     "data": {
      "text/plain": [
       "# current error = 1.0893413058717\t\n"
      ]
     },
     "execution_count": 9,
     "metadata": {},
     "output_type": "execute_result"
    },
    {
     "data": {
      "text/plain": [
       "# current error = 1.0759913251764\t\n"
      ]
     },
     "execution_count": 9,
     "metadata": {},
     "output_type": "execute_result"
    },
    {
     "data": {
      "text/plain": [
       "# current error = 1.0635926643515\t\n"
      ]
     },
     "execution_count": 9,
     "metadata": {},
     "output_type": "execute_result"
    },
    {
     "data": {
      "text/plain": [
       "# current error = 1.0518116039595\t\n"
      ]
     },
     "execution_count": 9,
     "metadata": {},
     "output_type": "execute_result"
    },
    {
     "data": {
      "text/plain": [
       "# current error = 1.0403100031753\t\n"
      ]
     },
     "execution_count": 9,
     "metadata": {},
     "output_type": "execute_result"
    },
    {
     "data": {
      "text/plain": [
       "# current error = 1.029902543462\t\n"
      ]
     },
     "execution_count": 9,
     "metadata": {},
     "output_type": "execute_result"
    },
    {
     "data": {
      "text/plain": [
       "# current error = 1.0199159615538\t\n"
      ]
     },
     "execution_count": 9,
     "metadata": {},
     "output_type": "execute_result"
    },
    {
     "data": {
      "text/plain": [
       "# current error = 1.0105704878253\t\n"
      ]
     },
     "execution_count": 9,
     "metadata": {},
     "output_type": "execute_result"
    },
    {
     "data": {
      "text/plain": [
       "# current error = 1.0022457417924\t\n",
       "# StochasticGradient: you have reached the maximum number of iterations\t\n",
       "# training error = 1.0022457417924\t\n",
       "\n"
      ]
     },
     "execution_count": 9,
     "metadata": {},
     "output_type": "execute_result"
    }
   ],
   "source": [
    "shorttrainer:train(trainset)"
   ]
  },
  {
   "cell_type": "code",
   "execution_count": 10,
   "metadata": {
    "collapsed": false
   },
   "outputs": [],
   "source": [
    "testset.data = testset.data:double()   -- convert from Byte tensor to Double tensor\n",
    "for i=1,3 do -- over each image channel\n",
    "    testset.data[{ {}, {i}, {}, {}  }]:add(-mean[i]) -- mean subtraction    \n",
    "    testset.data[{ {}, {i}, {}, {}  }]:div(stdv[i]) -- std scaling\n",
    "end"
   ]
  },
  {
   "cell_type": "code",
   "execution_count": 11,
   "metadata": {
    "collapsed": false
   },
   "outputs": [
    {
     "data": {
      "image/png": "[encoded data removed]",
      "text/plain": [
       "Console does not support images"
      ]
     },
     "metadata": {
      "image/png": {
       "height": 32,
       "width": 32
      }
     },
     "output_type": "display_data"
    },
    {
     "data": {
      "text/plain": [
       "Got: \tbird\t\n",
       "Expected: \thorse\t\n",
       "bird\t36.644052760075\t\n",
       "cat\t31.887848335677\t\n",
       "dog\t21.808258958688\t\n",
       "truck\t4.5000602647088\t\n",
       "deer\t2.7697160842494\t\n",
       "automobile\t1.336727966689\t\n"
      ]
     },
     "execution_count": 11,
     "metadata": {},
     "output_type": "execute_result"
    },
    {
     "data": {
      "image/png": "[encoded data removed]",
      "text/plain": [
       "Console does not support images"
      ]
     },
     "metadata": {
      "image/png": {
       "height": 32,
       "width": 32
      }
     },
     "output_type": "display_data"
    },
    {
     "data": {
      "text/plain": [
       "Got: \tdeer\t\n",
       "Expected: \tdeer\t\n",
       "deer\t73.669979511511\t\n",
       "bird\t14.874876356776\t\n",
       "horse\t6.095836200587\t\n",
       "dog\t3.1641595504583\t\n",
       "frog\t1.3216059949049\t\n",
       "cat\t0.53389929910064\t\n"
      ]
     },
     "execution_count": 11,
     "metadata": {},
     "output_type": "execute_result"
    },
    {
     "data": {
      "image/png": "[encoded data removed]",
      "text/plain": [
       "Console does not support images"
      ]
     },
     "metadata": {
      "image/png": {
       "height": 32,
       "width": 32
      }
     },
     "output_type": "display_data"
    },
    {
     "data": {
      "text/plain": [
       "Got: \tdog\t\n",
       "Expected: \tdog\t\n",
       "dog\t34.456149170707\t\n",
       "deer\t23.917211293964\t\n",
       "horse\t17.708219444992\t\n",
       "bird\t13.845505162537\t\n",
       "cat\t6.7173414377698\t\n",
       "frog\t2.5332574069918\t\n"
      ]
     },
     "execution_count": 11,
     "metadata": {},
     "output_type": "execute_result"
    },
    {
     "data": {
      "image/png": "[encoded data removed]",
      "text/plain": [
       "Console does not support images"
      ]
     },
     "metadata": {
      "image/png": {
       "height": 32,
       "width": 32
      }
     },
     "output_type": "display_data"
    },
    {
     "data": {
      "text/plain": [
       "Got: \tfrog\t\n",
       "Expected: \tfrog\t\n",
       "frog\t51.710471646515\t\n",
       "dog\t18.018345282864\t\n",
       "horse\t17.318783290962\t\n",
       "deer\t4.2641485572614\t\n",
       "cat\t3.6842830505769\t\n",
       "truck\t3.6282539933811\t\n"
      ]
     },
     "execution_count": 11,
     "metadata": {},
     "output_type": "execute_result"
    },
    {
     "data": {
      "image/png": "[encoded data removed]",
      "text/plain": [
       "Console does not support images"
      ]
     },
     "metadata": {
      "image/png": {
       "height": 32,
       "width": 32
      }
     },
     "output_type": "display_data"
    },
    {
     "data": {
      "text/plain": [
       "Got: \tcat\t\n",
       "Expected: \tcat\t\n"
      ]
     },
     "execution_count": 11,
     "metadata": {},
     "output_type": "execute_result"
    },
    {
     "data": {
      "text/plain": [
       "cat\t58.42802163024\t\n",
       "frog\t17.986356994855\t\n",
       "horse\t14.575560714976\t\n",
       "dog\t3.5167076026453\t\n",
       "deer\t3.00669027311\t\n",
       "truck\t1.4213184613669\t\n"
      ]
     },
     "execution_count": 11,
     "metadata": {},
     "output_type": "execute_result"
    },
    {
     "data": {
      "image/png": "[encoded data removed]",
      "text/plain": [
       "Console does not support images"
      ]
     },
     "metadata": {
      "image/png": {
       "height": 32,
       "width": 32
      }
     },
     "output_type": "display_data"
    },
    {
     "data": {
      "text/plain": [
       "Got: \tautomobile\t\n",
       "Expected: \tautomobile\t\n",
       "automobile\t62.247278915167\t\n",
       "truck\t25.127429838682\t\n",
       "airplane\t7.9993562489075\t\n",
       "bird\t2.0208074012047\t\n",
       "horse\t1.050380270542\t\n",
       "ship\t0.86647017621528\t\n"
      ]
     },
     "execution_count": 11,
     "metadata": {},
     "output_type": "execute_result"
    },
    {
     "data": {
      "image/png": "[encoded data removed]",
      "text/plain": [
       "Console does not support images"
      ]
     },
     "metadata": {
      "image/png": {
       "height": 32,
       "width": 32
      }
     },
     "output_type": "display_data"
    },
    {
     "data": {
      "text/plain": [
       "Got: \tship\t\n",
       "Expected: \tautomobile\t\n",
       "ship\t62.882367679309\t\n",
       "automobile\t36.590601734459\t\n",
       "airplane\t0.35317871616617\t\n",
       "truck\t0.17090663581894\t\n",
       "bird\t9.2229540099913e-05\t\n",
       "cat\t2.1745666230034e-05\t\n"
      ]
     },
     "execution_count": 11,
     "metadata": {},
     "output_type": "execute_result"
    },
    {
     "data": {
      "image/png": "[encoded data removed]",
      "text/plain": [
       "Console does not support images"
      ]
     },
     "metadata": {
      "image/png": {
       "height": 32,
       "width": 32
      }
     },
     "output_type": "display_data"
    },
    {
     "data": {
      "text/plain": [
       "Got: \tbird\t\n",
       "Expected: \tcat\t\n",
       "bird\t51.809835298995\t\n",
       "cat\t25.085807131459\t\n",
       "frog\t8.3493015503957\t\n",
       "airplane\t4.3666886942403\t\n",
       "horse\t4.327337356253\t\n",
       "dog\t4.1572218759324\t\n"
      ]
     },
     "execution_count": 11,
     "metadata": {},
     "output_type": "execute_result"
    },
    {
     "data": {
      "image/png": "[encoded data removed]",
      "text/plain": [
       "Console does not support images"
      ]
     },
     "metadata": {
      "image/png": {
       "height": 32,
       "width": 32
      }
     },
     "output_type": "display_data"
    },
    {
     "data": {
      "text/plain": [
       "Got: \tfrog\t\n",
       "Expected: \tfrog\t\n",
       "frog\t"
      ]
     },
     "execution_count": 11,
     "metadata": {},
     "output_type": "execute_result"
    },
    {
     "data": {
      "text/plain": [
       "67.760614521827\t\n",
       "cat\t19.022953004192\t\n",
       "deer\t5.3273667569326\t\n",
       "dog\t5.3184658722468\t\n",
       "bird\t0.99429695756969\t\n",
       "truck\t0.84338694218551\t\n"
      ]
     },
     "execution_count": 11,
     "metadata": {},
     "output_type": "execute_result"
    },
    {
     "data": {
      "image/png": "[encoded data removed]",
      "text/plain": [
       "Console does not support images"
      ]
     },
     "metadata": {
      "image/png": {
       "height": 32,
       "width": 32
      }
     },
     "output_type": "display_data"
    },
    {
     "data": {
      "text/plain": [
       "Got: \tfrog\t\n",
       "Expected: \tship\t\n",
       "frog\t45.622656555692\t\n",
       "cat\t17.446514746999\t\n",
       "horse\t16.430184915524\t\n",
       "dog\t10.25741789264\t\n",
       "bird\t5.6122261784192\t\n",
       "ship\t3.1386280711642\t\n"
      ]
     },
     "execution_count": 11,
     "metadata": {},
     "output_type": "execute_result"
    },
    {
     "data": {
      "image/png": "[encoded data removed]",
      "text/plain": [
       "Console does not support images"
      ]
     },
     "metadata": {
      "image/png": {
       "height": 32,
       "width": 32
      }
     },
     "output_type": "display_data"
    },
    {
     "data": {
      "text/plain": [
       "Got: \tdog\t\n",
       "Expected: \thorse\t\n",
       "dog\t88.761876317561\t\n",
       "frog\t5.0941783917959\t\n",
       "bird\t2.2521764420668\t\n",
       "horse\t1.8383867787321\t\n",
       "cat\t1.4827874472863\t\n",
       "deer\t0.55329865672323\t\n"
      ]
     },
     "execution_count": 11,
     "metadata": {},
     "output_type": "execute_result"
    },
    {
     "data": {
      "image/png": "[encoded data removed]",
      "text/plain": [
       "Console does not support images"
      ]
     },
     "metadata": {
      "image/png": {
       "height": 32,
       "width": 32
      }
     },
     "output_type": "display_data"
    },
    {
     "data": {
      "text/plain": [
       "Got: \tdog\t\n",
       "Expected: \tdeer\t\n",
       "dog\t36.992215481866\t\n",
       "frog\t32.766283676788\t\n"
      ]
     },
     "execution_count": 11,
     "metadata": {},
     "output_type": "execute_result"
    },
    {
     "data": {
      "text/plain": [
       "horse\t17.656178027203\t\n",
       "deer\t8.963555633187\t\n",
       "cat\t3.1204140255575\t\n",
       "bird\t0.43532108727065\t\n"
      ]
     },
     "execution_count": 11,
     "metadata": {},
     "output_type": "execute_result"
    },
    {
     "data": {
      "image/png": "[encoded data removed]",
      "text/plain": [
       "Console does not support images"
      ]
     },
     "metadata": {
      "image/png": {
       "height": 32,
       "width": 32
      }
     },
     "output_type": "display_data"
    },
    {
     "data": {
      "text/plain": [
       "Got: \tairplane\t\n",
       "Expected: \t"
      ]
     },
     "execution_count": 11,
     "metadata": {},
     "output_type": "execute_result"
    },
    {
     "data": {
      "text/plain": [
       "airplane\t\n",
       "airplane\t68.684640950357\t\n",
       "bird\t15.800501020944\t\n",
       "horse\t6.9125328450993\t\n",
       "ship\t5.3077554978228\t\n",
       "truck\t1.773915683289\t\n",
       "automobile\t1.4137499100344\t\n"
      ]
     },
     "execution_count": 11,
     "metadata": {},
     "output_type": "execute_result"
    },
    {
     "data": {
      "image/png": "[encoded data removed]",
      "text/plain": [
       "Console does not support images"
      ]
     },
     "metadata": {
      "image/png": {
       "height": 32,
       "width": 32
      }
     },
     "output_type": "display_data"
    },
    {
     "data": {
      "text/plain": [
       "Got: \tbird\t\n",
       "Expected: \tfrog\t\n"
      ]
     },
     "execution_count": 11,
     "metadata": {},
     "output_type": "execute_result"
    },
    {
     "data": {
      "text/plain": [
       "bird\t66.178474787417\t\n",
       "frog\t31.552096785472\t\n",
       "deer\t1.9021164476318\t\n",
       "cat\t0.31587124429511\t\n",
       "dog\t0.039472172905512\t\n",
       "horse\t0.0067923099635116\t\n"
      ]
     },
     "execution_count": 11,
     "metadata": {},
     "output_type": "execute_result"
    },
    {
     "data": {
      "image/png": "[encoded data removed]",
      "text/plain": [
       "Console does not support images"
      ]
     },
     "metadata": {
      "image/png": {
       "height": 32,
       "width": 32
      }
     },
     "output_type": "display_data"
    },
    {
     "data": {
      "text/plain": [
       "Got: \tbird\t\n",
       "Expected: \tbird\t\n",
       "bird\t93.623664510889\t\n",
       "deer\t3.0717601995449\t\n",
       "frog\t2.2265828777374\t\n",
       "dog\t0.40766401343886\t\n",
       "horse\t0.2337521739601\t\n",
       "cat\t0.18404011895322\t\n"
      ]
     },
     "execution_count": 11,
     "metadata": {},
     "output_type": "execute_result"
    },
    {
     "data": {
      "image/png": "[encoded data removed]",
      "text/plain": [
       "Console does not support images"
      ]
     },
     "metadata": {
      "image/png": {
       "height": 32,
       "width": 32
      }
     },
     "output_type": "display_data"
    },
    {
     "data": {
      "text/plain": [
       "Got: \tautomobile\t\n",
       "Expected: \tautomobile\t\n",
       "automobile\t74.60571655039\t\n",
       "truck\t24.192316737452\t\n",
       "horse\t1.082585749299\t\n",
       "dog\t0.044246844517567\t\n",
       "airplane\t0.02745482103285\t\n",
       "deer\t0.025758364401452\t\n"
      ]
     },
     "execution_count": 11,
     "metadata": {},
     "output_type": "execute_result"
    },
    {
     "data": {
      "image/png": "[encoded data removed]",
      "text/plain": [
       "Console does not support images"
      ]
     },
     "metadata": {
      "image/png": {
       "height": 32,
       "width": 32
      }
     },
     "output_type": "display_data"
    },
    {
     "data": {
      "text/plain": [
       "Got: \thorse\t\n",
       "Expected: \tcat\t\n",
       "horse\t79.879012383795\t\n",
       "truck\t8.8735691586678\t\n",
       "cat\t4.0795391081396\t\n",
       "dog\t3.4683152516822\t\n",
       "automobile\t2.1685596696187\t\n",
       "deer\t0.91861574364127\t\n"
      ]
     },
     "execution_count": 11,
     "metadata": {},
     "output_type": "execute_result"
    },
    {
     "data": {
      "image/png": "[encoded data removed]",
      "text/plain": [
       "Console does not support images"
      ]
     },
     "metadata": {
      "image/png": {
       "height": 32,
       "width": 32
      }
     },
     "output_type": "display_data"
    },
    {
     "data": {
      "text/plain": [
       "Got: \tairplane\t\n",
       "Expected: \tairplane\t\n",
       "airplane\t75.221573102932\t\n",
       "bird\t15.370566387246\t\n",
       "dog\t5.3619371995067\t\n",
       "ship\t2.9497339045023\t\n",
       "cat\t0.2924534853115\t\n",
       "horse\t0.26472357747214\t\n"
      ]
     },
     "execution_count": 11,
     "metadata": {},
     "output_type": "execute_result"
    },
    {
     "data": {
      "image/png": "[encoded data removed]",
      "text/plain": [
       "Console does not support images"
      ]
     },
     "metadata": {
      "image/png": {
       "height": 32,
       "width": 32
      }
     },
     "output_type": "display_data"
    },
    {
     "data": {
      "text/plain": [
       "Got: \tcat\t\n",
       "Expected: \tdeer\t\n",
       "cat\t31.908865477207\t\n",
       "deer\t30.894647716002\t\n",
       "horse\t28.887355779449\t\n",
       "dog\t3.4116759825634\t\n",
       "bird\t2.8965944184646\t\n",
       "truck\t1.1962383157355\t\n"
      ]
     },
     "execution_count": 11,
     "metadata": {},
     "output_type": "execute_result"
    },
    {
     "data": {
      "image/png": "[encoded data removed]",
      "text/plain": [
       "Console does not support images"
      ]
     },
     "metadata": {
      "image/png": {
       "height": 32,
       "width": 32
      }
     },
     "output_type": "display_data"
    },
    {
     "data": {
      "text/plain": [
       "Got: \tdog\t\n",
       "Expected: \tbird\t\n",
       "dog\t66.790280871596\t\n",
       "bird\t14.254067426064\t\n",
       "cat\t14.18640996457\t\n",
       "horse\t2.3916695934354\t\n",
       "frog\t1.2021455091482\t\n",
       "deer\t1.1148639446292\t\n"
      ]
     },
     "execution_count": 11,
     "metadata": {},
     "output_type": "execute_result"
    },
    {
     "data": {
      "image/png": "[encoded data removed]",
      "text/plain": [
       "Console does not support images"
      ]
     },
     "metadata": {
      "image/png": {
       "height": 32,
       "width": 32
      }
     },
     "output_type": "display_data"
    },
    {
     "data": {
      "text/plain": [
       "Got: \tfrog\t\n",
       "Expected: \thorse\t\n",
       "frog\t47.014903472076\t\n",
       "horse\t41.939427200534\t\n",
       "cat\t6.6987890681404\t\n",
       "dog\t1.8847563846394\t\n",
       "automobile\t1.469599458516\t\n",
       "deer\t0.58389293016801\t\n"
      ]
     },
     "execution_count": 11,
     "metadata": {},
     "output_type": "execute_result"
    },
    {
     "data": {
      "image/png": "[encoded data removed]",
      "text/plain": [
       "Console does not support images"
      ]
     },
     "metadata": {
      "image/png": {
       "height": 32,
       "width": 32
      }
     },
     "output_type": "display_data"
    },
    {
     "data": {
      "text/plain": [
       "Got: \tship\t\n",
       "Expected: \tship\t\n",
       "ship\t85.710202022889\t\n",
       "automobile\t7.8455854473184\t\n",
       "airplane\t5.9367718597297\t\n",
       "truck\t0.20868066159901\t\n",
       "frog\t0.1617700311207\t\n",
       "bird\t0.077051758640736\t\n"
      ]
     },
     "execution_count": 11,
     "metadata": {},
     "output_type": "execute_result"
    },
    {
     "data": {
      "image/png": "[encoded data removed]",
      "text/plain": [
       "Console does not support images"
      ]
     },
     "metadata": {
      "image/png": {
       "height": 32,
       "width": 32
      }
     },
     "output_type": "display_data"
    },
    {
     "data": {
      "text/plain": [
       "Got: \tdog\t\n",
       "Expected: \tcat\t\n",
       "dog\t73.911387638622\t\n",
       "bird\t12.060742159815\t\n",
       "cat\t11.856092040725\t\n",
       "horse\t1.3431474437055\t\n",
       "deer\t0.72982715452682\t\n",
       "airplane\t0.072325788448413\t\n"
      ]
     },
     "execution_count": 11,
     "metadata": {},
     "output_type": "execute_result"
    },
    {
     "data": {
      "image/png": "[encoded data removed]",
      "text/plain": [
       "Console does not support images"
      ]
     },
     "metadata": {
      "image/png": {
       "height": 32,
       "width": 32
      }
     },
     "output_type": "display_data"
    },
    {
     "data": {
      "image/png": "[encoded data removed]",
      "text/plain": [
       "Console does not support images"
      ]
     },
     "metadata": {
      "image/png": {
       "height": 32,
       "width": 32
      }
     },
     "output_type": "display_data"
    },
    {
     "data": {
      "text/plain": [
       "Got: \tdeer\t\n",
       "Expected: \tautomobile\t\n",
       "deer\t51.055762199739\t\n",
       "dog\t23.523918519711\t\n",
       "bird\t13.636251945551\t\n",
       "automobile\t5.5227769157495\t\n",
       "cat\t5.2898705524275\t\n",
       "truck\t0.30001227761872\t\n"
      ]
     },
     "execution_count": 11,
     "metadata": {},
     "output_type": "execute_result"
    },
    {
     "data": {
      "text/plain": [
       "Got: \tbird\t\n",
       "Expected: \tbird\t\n",
       "bird\t91.609722625631\t\n",
       "horse\t4.5350027780807\t\n",
       "deer\t3.0894627579757\t\n",
       "dog\t0.68812678529982\t\n",
       "frog\t0.045329919931955\t\n",
       "cat\t0.023888138623471\t\n"
      ]
     },
     "execution_count": 11,
     "metadata": {},
     "output_type": "execute_result"
    },
    {
     "data": {
      "image/png": "[encoded data removed]",
      "text/plain": [
       "Console does not support images"
      ]
     },
     "metadata": {
      "image/png": {
       "height": 32,
       "width": 32
      }
     },
     "output_type": "display_data"
    },
    {
     "data": {
      "text/plain": [
       "Got: \tairplane\t\n",
       "Expected: \tship\t\n",
       "airplane\t56.57597120058\t\n",
       "ship\t36.664345829771\t\n",
       "deer\t2.7553366995888\t\n",
       "truck\t2.0589535740351\t\n",
       "bird\t1.1452586437605\t\n",
       "horse\t0.5830568287714\t\n"
      ]
     },
     "execution_count": 11,
     "metadata": {},
     "output_type": "execute_result"
    },
    {
     "data": {
      "image/png": "[encoded data removed]",
      "text/plain": [
       "Console does not support images"
      ]
     },
     "metadata": {
      "image/png": {
       "height": 32,
       "width": 32
      }
     },
     "output_type": "display_data"
    },
    {
     "data": {
      "text/plain": [
       "Got: \tbird\t\n",
       "Expected: \tairplane\t\n",
       "bird\t76.700247878459\t\n",
       "cat\t11.579742123866\t\n",
       "frog\t3.4904566225537\t\n",
       "truck\t2.850333538172\t\n",
       "deer\t1.6266874868059\t\n",
       "airplane\t1.4664874591703\t\n"
      ]
     },
     "execution_count": 11,
     "metadata": {},
     "output_type": "execute_result"
    },
    {
     "data": {
      "image/png": "[encoded data removed]",
      "text/plain": [
       "Console does not support images"
      ]
     },
     "metadata": {
      "image/png": {
       "height": 32,
       "width": 32
      }
     },
     "output_type": "display_data"
    },
    {
     "data": {
      "text/plain": [
       "Got: \tship\t\n",
       "Expected: \tship\t\n",
       "ship\t63.985911127117\t\n",
       "airplane\t32.850350688272\t\n",
       "truck\t1.958095255577\t\n",
       "bird\t0.60213711240576\t\n",
       "automobile\t0.28871970456568\t\n",
       "deer\t0.20004259241045\t\n"
      ]
     },
     "execution_count": 11,
     "metadata": {},
     "output_type": "execute_result"
    },
    {
     "data": {
      "image/png": "[encoded data removed]",
      "text/plain": [
       "Console does not support images"
      ]
     },
     "metadata": {
      "image/png": {
       "height": 32,
       "width": 32
      }
     },
     "output_type": "display_data"
    },
    {
     "data": {
      "text/plain": [
       "Got: \tcat\t\n",
       "Expected: \tcat\t\n",
       "cat\t60.879389365498\t\n",
       "dog\t38.529112603654\t\n",
       "deer\t0.23556609738497\t\n",
       "frog\t0.19209231197646\t\n",
       "truck\t0.067161956979884\t\n",
       "automobile\t0.057644568831502\t\n"
      ]
     },
     "execution_count": 11,
     "metadata": {},
     "output_type": "execute_result"
    },
    {
     "data": {
      "image/png": "[encoded data removed]",
      "text/plain": [
       "Console does not support images"
      ]
     },
     "metadata": {
      "image/png": {
       "height": 32,
       "width": 32
      }
     },
     "output_type": "display_data"
    },
    {
     "data": {
      "text/plain": [
       "Got: \tcat\t\n",
       "Expected: \tdog\t\n",
       "cat\t28.728989887878\t\n",
       "deer\t21.568052395982\t\n",
       "frog\t21.059381517688\t\n",
       "horse\t13.688911266485\t\n",
       "dog\t7.4523907293117\t\n",
       "bird\t4.1365840626037\t\n"
      ]
     },
     "execution_count": 11,
     "metadata": {},
     "output_type": "execute_result"
    },
    {
     "data": {
      "image/png": "[encoded data removed]",
      "text/plain": [
       "Console does not support images"
      ]
     },
     "metadata": {
      "image/png": {
       "height": 32,
       "width": 32
      }
     },
     "output_type": "display_data"
    },
    {
     "data": {
      "text/plain": [
       "Got: \tfrog\t\n",
       "Expected: \tbird\t\n",
       "frog\t45.915290604508\t\n",
       "airplane\t29.257620047857\t\n",
       "ship\t11.962599260829\t\n",
       "cat\t6.4173731440204\t\n",
       "bird\t4.5928828141209\t\n",
       "deer\t0.86189517471744\t\n"
      ]
     },
     "execution_count": 11,
     "metadata": {},
     "output_type": "execute_result"
    },
    {
     "data": {
      "image/png": "[encoded data removed]",
      "text/plain": [
       "Console does not support images"
      ]
     },
     "metadata": {
      "image/png": {
       "height": 32,
       "width": 32
      }
     },
     "output_type": "display_data"
    },
    {
     "data": {
      "text/plain": [
       "Got: \tdeer\t\n",
       "Expected: \tdeer\t\n",
       "deer\t42.888153507821\t\n",
       "horse\t37.638594317079\t\n",
       "frog\t10.977546786741\t\n",
       "bird\t8.0337517364655\t\n",
       "dog\t0.24584087653611\t\n",
       "cat\t0.17259326931076\t\n"
      ]
     },
     "execution_count": 11,
     "metadata": {},
     "output_type": "execute_result"
    },
    {
     "data": {
      "image/png": "[encoded data removed]",
      "text/plain": [
       "Console does not support images"
      ]
     },
     "metadata": {
      "image/png": {
       "height": 32,
       "width": 32
      }
     },
     "output_type": "display_data"
    },
    {
     "data": {
      "text/plain": [
       "Got: \tautomobile\t\n",
       "Expected: \tautomobile\t\n",
       "automobile\t93.129458042152\t\n",
       "truck\t4.6114414276487\t\n",
       "dog\t1.8094139323056\t\n",
       "horse\t0.28115335481924\t\n",
       "deer\t0.087164190323762\t\n",
       "cat\t0.039744284698701\t\n"
      ]
     },
     "execution_count": 11,
     "metadata": {},
     "output_type": "execute_result"
    },
    {
     "data": {
      "image/png": "[encoded data removed]",
      "text/plain": [
       "Console does not support images"
      ]
     },
     "metadata": {
      "image/png": {
       "height": 32,
       "width": 32
      }
     },
     "output_type": "display_data"
    },
    {
     "data": {
      "text/plain": [
       "Got: \ttruck\t\n",
       "Expected: \tship\t\n",
       "truck\t85.69663963479\t\n",
       "automobile\t11.467905208863\t\n",
       "airplane\t2.1774220545462\t\n",
       "ship\t0.42534326717648\t\n",
       "deer\t0.13118365474855\t\n",
       "cat\t0.062513192495551\t\n"
      ]
     },
     "execution_count": 11,
     "metadata": {},
     "output_type": "execute_result"
    },
    {
     "data": {
      "image/png": "[encoded data removed]",
      "text/plain": [
       "Console does not support images"
      ]
     },
     "metadata": {
      "image/png": {
       "height": 32,
       "width": 32
      }
     },
     "output_type": "display_data"
    },
    {
     "data": {
      "text/plain": [
       "Got: \ttruck\t\n",
       "Expected: \ttruck\t\n",
       "truck\t99.294241542908\t\n",
       "automobile\t0.58920127875759\t\n",
       "cat\t0.056837977311403\t\n",
       "horse\t0.025461341403964\t\n",
       "dog\t0.025235821969948\t\n",
       "frog\t0.0025394482552185\t\n"
      ]
     },
     "execution_count": 11,
     "metadata": {},
     "output_type": "execute_result"
    },
    {
     "data": {
      "image/png": "[encoded data removed]",
      "text/plain": [
       "Console does not support images"
      ]
     },
     "metadata": {
      "image/png": {
       "height": 32,
       "width": 32
      }
     },
     "output_type": "display_data"
    },
    {
     "data": {
      "text/plain": [
       "Got: \thorse\t\n",
       "Expected: \tautomobile\t\n",
       "horse\t37.399604771714\t\n",
       "automobile\t20.616754754893\t\n",
       "dog\t16.184881752439\t\n",
       "cat\t12.266736983698\t\n",
       "truck\t10.493303101947\t\n",
       "deer\t2.6391148751012\t\n"
      ]
     },
     "execution_count": 11,
     "metadata": {},
     "output_type": "execute_result"
    },
    {
     "data": {
      "image/png": "[encoded data removed]",
      "text/plain": [
       "Console does not support images"
      ]
     },
     "metadata": {
      "image/png": {
       "height": 32,
       "width": 32
      }
     },
     "output_type": "display_data"
    },
    {
     "data": {
      "text/plain": [
       "Got: \tcat\t\n",
       "Expected: \tbird\t\n",
       "cat\t33.647032725576\t\n",
       "dog\t22.483720588726\t\n",
       "frog\t16.086181982338\t\n",
       "deer\t10.59052846077\t\n",
       "bird\t9.2685963974261\t\n",
       "automobile\t2.5478780121602\t\n"
      ]
     },
     "execution_count": 11,
     "metadata": {},
     "output_type": "execute_result"
    },
    {
     "data": {
      "image/png": "[encoded data removed]",
      "text/plain": [
       "Console does not support images"
      ]
     },
     "metadata": {
      "image/png": {
       "height": 32,
       "width": 32
      }
     },
     "output_type": "display_data"
    },
    {
     "data": {
      "text/plain": [
       "Got: \ttruck\t\n",
       "Expected: \ttruck\t\n",
       "truck\t77.951934163093\t\n",
       "automobile\t21.692783768073\t\n",
       "dog\t0.20099812769593\t\n",
       "horse\t0.067223392901792\t\n",
       "cat\t0.05446995437089\t\n",
       "ship\t0.027494291840537\t\n"
      ]
     },
     "execution_count": 11,
     "metadata": {},
     "output_type": "execute_result"
    },
    {
     "data": {
      "image/png": "[encoded data removed]",
      "text/plain": [
       "Console does not support images"
      ]
     },
     "metadata": {
      "image/png": {
       "height": 32,
       "width": 32
      }
     },
     "output_type": "display_data"
    },
    {
     "data": {
      "text/plain": [
       "Got: \thorse\t\n",
       "Expected: \thorse\t\n",
       "horse\t91.977863528209\t\n",
       "bird\t4.3846002113913\t\n",
       "deer\t2.3592257261317\t\n",
       "dog\t0.79832962773844\t\n",
       "cat\t0.33573103921948\t\n",
       "truck\t0.094321387367701\t\n"
      ]
     },
     "execution_count": 11,
     "metadata": {},
     "output_type": "execute_result"
    },
    {
     "data": {
      "image/png": "[encoded data removed]",
      "text/plain": [
       "Console does not support images"
      ]
     },
     "metadata": {
      "image/png": {
       "height": 32,
       "width": 32
      }
     },
     "output_type": "display_data"
    },
    {
     "data": {
      "text/plain": [
       "Got: \tbird\t\n",
       "Expected: \tbird\t\n",
       "bird\t54.833765058617\t\n",
       "deer\t27.953210860052\t\n",
       "dog\t10.064483726558\t\n",
       "frog\t3.144211918797\t\n",
       "cat\t2.890039785616\t\n",
       "horse\t1.1078097354695\t\n"
      ]
     },
     "execution_count": 11,
     "metadata": {},
     "output_type": "execute_result"
    },
    {
     "data": {
      "image/png": "[encoded data removed]",
      "text/plain": [
       "Console does not support images"
      ]
     },
     "metadata": {
      "image/png": {
       "height": 32,
       "width": 32
      }
     },
     "output_type": "display_data"
    },
    {
     "data": {
      "text/plain": [
       "Got: \tship\t\n",
       "Expected: \ttruck\t\n",
       "ship\t61.596591500759\t\n",
       "airplane\t35.410732527203\t\n",
       "truck\t1.4747468555601\t\n",
       "automobile\t1.4506654480591\t\n",
       "bird\t0.060638634986109\t\n",
       "deer\t0.0016488543823932\t\n"
      ]
     },
     "execution_count": 11,
     "metadata": {},
     "output_type": "execute_result"
    },
    {
     "data": {
      "image/png": "[encoded data removed]",
      "text/plain": [
       "Console does not support images"
      ]
     },
     "metadata": {
      "image/png": {
       "height": 32,
       "width": 32
      }
     },
     "output_type": "display_data"
    },
    {
     "data": {
      "text/plain": [
       "Got: \tfrog\t\n",
       "Expected: \tfrog\t\n",
       "frog\t63.256272657356\t\n",
       "cat\t19.333347299812\t\n",
       "dog\t6.1213803344867\t\n",
       "bird\t3.6765569184773\t\n",
       "automobile\t2.7371823130441\t\n",
       "deer\t2.103269454214\t\n"
      ]
     },
     "execution_count": 11,
     "metadata": {},
     "output_type": "execute_result"
    },
    {
     "data": {
      "image/png": "[encoded data removed]",
      "text/plain": [
       "Console does not support images"
      ]
     },
     "metadata": {
      "image/png": {
       "height": 32,
       "width": 32
      }
     },
     "output_type": "display_data"
    },
    {
     "data": {
      "text/plain": [
       "Got: \tdog\t\n",
       "Expected: \tdog\t\n",
       "dog\t82.980183406317\t\n",
       "horse\t12.942934423094\t\n",
       "bird\t4.0142020946518\t\n",
       "cat\t0.028349066682877\t\n",
       "truck\t0.011093215227046\t\n",
       "ship\t0.0085926678192217\t\n"
      ]
     },
     "execution_count": 11,
     "metadata": {},
     "output_type": "execute_result"
    },
    {
     "data": {
      "image/png": "[encoded data removed]",
      "text/plain": [
       "Console does not support images"
      ]
     },
     "metadata": {
      "image/png": {
       "height": 32,
       "width": 32
      }
     },
     "output_type": "display_data"
    },
    {
     "data": {
      "text/plain": [
       "Got: \tfrog\t\n",
       "Expected: \tfrog\t\n",
       "frog\t72.390305426743\t\n",
       "truck\t8.8213397589824\t\n",
       "cat\t7.1431388018806\t\n",
       "dog\t3.460353979571\t\n",
       "bird\t2.5589892663554\t\n",
       "automobile\t2.5449962942423\t\n"
      ]
     },
     "execution_count": 11,
     "metadata": {},
     "output_type": "execute_result"
    },
    {
     "data": {
      "image/png": "[encoded data removed]",
      "text/plain": [
       "Console does not support images"
      ]
     },
     "metadata": {
      "image/png": {
       "height": 32,
       "width": 32
      }
     },
     "output_type": "display_data"
    },
    {
     "data": {
      "text/plain": [
       "Got: \tcat\t\n",
       "Expected: \tcat\t\n",
       "cat\t51.163117092657\t\n",
       "dog\t36.619147443825\t\n",
       "horse\t5.1844668492793\t\n",
       "deer\t3.2716828916153\t\n",
       "truck\t2.2663061784335\t\n",
       "bird\t0.84968951341444\t\n"
      ]
     },
     "execution_count": 11,
     "metadata": {},
     "output_type": "execute_result"
    },
    {
     "data": {
      "image/png": "[encoded data removed]",
      "text/plain": [
       "Console does not support images"
      ]
     },
     "metadata": {
      "image/png": {
       "height": 32,
       "width": 32
      }
     },
     "output_type": "display_data"
    },
    {
     "data": {
      "text/plain": [
       "Got: \tairplane\t\n",
       "Expected: \tship\t\n",
       "airplane\t46.152420169517\t\n",
       "ship\t43.38026513905\t\n",
       "automobile\t10.214187548995\t\n",
       "truck\t0.19041109920308\t\n",
       "horse\t0.049427041190376\t\n",
       "bird\t0.0078943381237899\t\n"
      ]
     },
     "execution_count": 11,
     "metadata": {},
     "output_type": "execute_result"
    },
    {
     "data": {
      "image/png": "[encoded data removed]",
      "text/plain": [
       "Console does not support images"
      ]
     },
     "metadata": {
      "image/png": {
       "height": 32,
       "width": 32
      }
     },
     "output_type": "display_data"
    },
    {
     "data": {
      "text/plain": [
       "Got: \thorse\t\n",
       "Expected: \thorse\t\n",
       "horse\t43.918183512484\t\n",
       "airplane\t18.994688742255\t\n",
       "deer\t13.078824441796\t\n",
       "frog\t9.8224265773963\t\n",
       "cat\t6.0174470131734\t\n",
       "bird\t3.1785810663685\t\n"
      ]
     },
     "execution_count": 11,
     "metadata": {},
     "output_type": "execute_result"
    },
    {
     "data": {
      "image/png": "[encoded data removed]",
      "text/plain": [
       "Console does not support images"
      ]
     },
     "metadata": {
      "image/png": {
       "height": 32,
       "width": 32
      }
     },
     "output_type": "display_data"
    },
    {
     "data": {
      "text/plain": [
       "Got: \tfrog\t\n",
       "Expected: \tfrog\t\n",
       "frog\t47.374180176584\t\n",
       "cat\t41.35994325948\t\n",
       "dog\t4.9601982913985\t\n",
       "horse\t3.0873433503723\t\n",
       "deer\t2.6368515314495\t\n",
       "bird\t0.3362225107759\t\n"
      ]
     },
     "execution_count": 11,
     "metadata": {},
     "output_type": "execute_result"
    },
    {
     "data": {
      "image/png": "[encoded data removed]",
      "text/plain": [
       "Console does not support images"
      ]
     },
     "metadata": {
      "image/png": {
       "height": 32,
       "width": 32
      }
     },
     "output_type": "display_data"
    },
    {
     "data": {
      "text/plain": [
       "Got: \tfrog\t\n",
       "Expected: \tbird\t\n",
       "frog\t54.607633608294\t\n",
       "dog\t43.652194714693\t\n",
       "cat\t1.467825350237\t\n",
       "horse\t0.2220116163377\t\n",
       "deer\t0.02739024547597\t\n",
       "bird\t0.018169518595088\t\n"
      ]
     },
     "execution_count": 11,
     "metadata": {},
     "output_type": "execute_result"
    },
    {
     "data": {
      "image/png": "[encoded data removed]",
      "text/plain": [
       "Console does not support images"
      ]
     },
     "metadata": {
      "image/png": {
       "height": 32,
       "width": 32
      }
     },
     "output_type": "display_data"
    },
    {
     "data": {
      "text/plain": [
       "Got: \tdog\t\n",
       "Expected: \tdog\t\n",
       "dog\t53.215775871575\t\n",
       "cat\t44.099407578032\t\n",
       "deer\t1.0464307234487\t\n",
       "automobile\t1.005061631092\t\n",
       "horse\t0.35586926033506\t\n",
       "frog\t0.20777355222547\t\n"
      ]
     },
     "execution_count": 11,
     "metadata": {},
     "output_type": "execute_result"
    },
    {
     "data": {
      "image/png": "[encoded data removed]",
      "text/plain": [
       "Console does not support images"
      ]
     },
     "metadata": {
      "image/png": {
       "height": 32,
       "width": 32
      }
     },
     "output_type": "display_data"
    },
    {
     "data": {
      "text/plain": [
       "Got: \tcat\t\n",
       "Expected: \tbird\t\n",
       "cat\t47.828563036891\t\n",
       "dog\t36.271814882836\t\n",
       "bird\t10.416828406585\t\n",
       "horse\t3.9840413065397\t\n",
       "deer\t0.58565902501977\t\n",
       "truck\t0.42216195789109\t\n"
      ]
     },
     "execution_count": 11,
     "metadata": {},
     "output_type": "execute_result"
    },
    {
     "data": {
      "image/png": "[encoded data removed]",
      "text/plain": [
       "Console does not support images"
      ]
     },
     "metadata": {
      "image/png": {
       "height": 32,
       "width": 32
      }
     },
     "output_type": "display_data"
    },
    {
     "data": {
      "text/plain": [
       "Got: \tautomobile\t\n",
       "Expected: \tship\t\n",
       "automobile\t99.410390565648\t\n",
       "ship\t0.2581459277443\t\n",
       "truck\t0.20169933224474\t\n",
       "airplane\t0.11639597143463\t\n",
       "bird\t0.004609383362979\t\n",
       "deer\t0.00067948611102595\t\n"
      ]
     },
     "execution_count": 11,
     "metadata": {},
     "output_type": "execute_result"
    },
    {
     "data": {
      "image/png": "[encoded data removed]",
      "text/plain": [
       "Console does not support images"
      ]
     },
     "metadata": {
      "image/png": {
       "height": 32,
       "width": 32
      }
     },
     "output_type": "display_data"
    },
    {
     "data": {
      "text/plain": [
       "Got: \tautomobile\t\n",
       "Expected: \ttruck\t\n",
       "automobile\t80.664507999099\t\n",
       "truck\t7.4255751662482\t\n",
       "ship\t4.0767825515764\t\n",
       "dog\t2.297808077859\t\n",
       "cat\t2.0795934086455\t\n",
       "horse\t2.0338232839053\t\n"
      ]
     },
     "execution_count": 11,
     "metadata": {},
     "output_type": "execute_result"
    },
    {
     "data": {
      "image/png": "[encoded data removed]",
      "text/plain": [
       "Console does not support images"
      ]
     },
     "metadata": {
      "image/png": {
       "height": 32,
       "width": 32
      }
     },
     "output_type": "display_data"
    },
    {
     "data": {
      "text/plain": [
       "Got: \tcat\t\n",
       "Expected: \tfrog\t\n",
       "cat\t32.34973798195\t\n",
       "frog\t29.52086579745\t\n",
       "deer\t13.90876730964\t\n",
       "bird\t13.047053756697\t\n",
       "dog\t5.4245810894519\t\n",
       "horse\t2.9598099504503\t\n"
      ]
     },
     "execution_count": 11,
     "metadata": {},
     "output_type": "execute_result"
    },
    {
     "data": {
      "image/png": "[encoded data removed]",
      "text/plain": [
       "Console does not support images"
      ]
     },
     "metadata": {
      "image/png": {
       "height": 32,
       "width": 32
      }
     },
     "output_type": "display_data"
    },
    {
     "data": {
      "text/plain": [
       "Got: \thorse\t\n",
       "Expected: \tairplane\t\n",
       "horse\t26.174902521945\t\n",
       "dog\t21.421605100302\t\n",
       "cat\t17.339255891753\t\n",
       "airplane\t13.938193864795\t\n",
       "truck\t9.8203661343481\t\n",
       "bird\t9.1403186735405\t\n"
      ]
     },
     "execution_count": 11,
     "metadata": {},
     "output_type": "execute_result"
    },
    {
     "data": {
      "image/png": "[encoded data removed]",
      "text/plain": [
       "Console does not support images"
      ]
     },
     "metadata": {
      "image/png": {
       "height": 32,
       "width": 32
      }
     },
     "output_type": "display_data"
    },
    {
     "data": {
      "text/plain": [
       "Got: \tbird\t\n",
       "Expected: \tairplane\t\n",
       "bird\t39.58322253847\t\n",
       "cat\t19.599467335713\t\n",
       "deer\t16.615446010751\t\n",
       "dog\t13.572922287523\t\n",
       "airplane\t8.9928256798468\t\n",
       "frog\t0.66952292170325\t\n"
      ]
     },
     "execution_count": 11,
     "metadata": {},
     "output_type": "execute_result"
    },
    {
     "data": {
      "image/png": "[encoded data removed]",
      "text/plain": [
       "Console does not support images"
      ]
     },
     "metadata": {
      "image/png": {
       "height": 32,
       "width": 32
      }
     },
     "output_type": "display_data"
    },
    {
     "data": {
      "text/plain": [
       "Got: \tfrog\t\n",
       "Expected: \tdog\t\n",
       "frog\t42.706016019644\t\n",
       "deer\t23.567013255729\t\n",
       "cat\t14.972658202751\t\n",
       "dog\t11.265744967685\t\n",
       "bird\t3.1988078768807\t\n",
       "horse\t2.4111560791686\t\n"
      ]
     },
     "execution_count": 11,
     "metadata": {},
     "output_type": "execute_result"
    },
    {
     "data": {
      "image/png": "[encoded data removed]",
      "text/plain": [
       "Console does not support images"
      ]
     },
     "metadata": {
      "image/png": {
       "height": 32,
       "width": 32
      }
     },
     "output_type": "display_data"
    },
    {
     "data": {
      "text/plain": [
       "Got: \tbird\t\n",
       "Expected: \tbird\t\n",
       "bird\t75.766093648534\t\n",
       "dog\t8.2929712487528\t\n",
       "cat\t6.2951031263534\t\n",
       "deer\t4.9163157161605\t\n",
       "horse\t3.2089225314454\t\n",
       "frog\t1.2469068740593\t\n"
      ]
     },
     "execution_count": 11,
     "metadata": {},
     "output_type": "execute_result"
    },
    {
     "data": {
      "image/png": "[encoded data removed]",
      "text/plain": [
       "Console does not support images"
      ]
     },
     "metadata": {
      "image/png": {
       "height": 32,
       "width": 32
      }
     },
     "output_type": "display_data"
    },
    {
     "data": {
      "text/plain": [
       "Got: \ttruck\t\n",
       "Expected: \ttruck\t\n",
       "truck\t34.38035889879\t\n",
       "ship\t31.888032833523\t\n",
       "airplane\t28.288156627044\t\n",
       "automobile\t4.7700599493388\t\n",
       "deer\t0.29252703996356\t\n",
       "cat\t0.16984107205512\t\n"
      ]
     },
     "execution_count": 11,
     "metadata": {},
     "output_type": "execute_result"
    },
    {
     "data": {
      "image/png": "[encoded data removed]",
      "text/plain": [
       "Console does not support images"
      ]
     },
     "metadata": {
      "image/png": {
       "height": 32,
       "width": 32
      }
     },
     "output_type": "display_data"
    },
    {
     "data": {
      "text/plain": [
       "Got: \tcat\t\n",
       "Expected: \tdog\t\n",
       "cat\t76.555866478247\t\n",
       "dog\t13.899797689194\t\n",
       "frog\t4.57815054055\t\n",
       "deer\t4.2694734718348\t\n",
       "horse\t0.41666551099285\t\n",
       "bird\t0.10795327853528\t\n"
      ]
     },
     "execution_count": 11,
     "metadata": {},
     "output_type": "execute_result"
    },
    {
     "data": {
      "image/png": "[encoded data removed]",
      "text/plain": [
       "Console does not support images"
      ]
     },
     "metadata": {
      "image/png": {
       "height": 32,
       "width": 32
      }
     },
     "output_type": "display_data"
    },
    {
     "data": {
      "text/plain": [
       "Got: \tairplane\t\n",
       "Expected: \tdeer\t\n",
       "airplane\t58.309300226271\t\n",
       "ship\t11.923535100406\t\n",
       "truck\t9.5330959746353\t\n",
       "horse\t7.9999665924006\t\n",
       "deer\t7.9177737949437\t\n",
       "bird\t3.4825409964189\t\n"
      ]
     },
     "execution_count": 11,
     "metadata": {},
     "output_type": "execute_result"
    },
    {
     "data": {
      "image/png": "[encoded data removed]",
      "text/plain": [
       "Console does not support images"
      ]
     },
     "metadata": {
      "image/png": {
       "height": 32,
       "width": 32
      }
     },
     "output_type": "display_data"
    },
    {
     "data": {
      "text/plain": [
       "Got: \tairplane\t\n",
       "Expected: \tbird\t\n",
       "airplane\t53.28397221155\t\n",
       "cat\t34.20886249157\t\n",
       "horse\t6.5970519331908\t\n",
       "bird\t2.8782360830169\t\n",
       "dog\t2.4250339854584\t\n",
       "deer\t0.26908015481933\t\n"
      ]
     },
     "execution_count": 11,
     "metadata": {},
     "output_type": "execute_result"
    },
    {
     "data": {
      "image/png": "[encoded data removed]",
      "text/plain": [
       "Console does not support images"
      ]
     },
     "metadata": {
      "image/png": {
       "height": 32,
       "width": 32
      }
     },
     "output_type": "display_data"
    },
    {
     "data": {
      "text/plain": [
       "Got: \tautomobile\t\n",
       "Expected: \tautomobile\t\n",
       "automobile\t94.505189110868\t\n",
       "airplane\t2.5549250071815\t\n",
       "frog\t1.0505700125028\t\n",
       "truck\t1.0221416057363\t\n",
       "cat\t0.33980169228965\t\n",
       "ship\t0.17730666267834\t\n"
      ]
     },
     "execution_count": 11,
     "metadata": {},
     "output_type": "execute_result"
    },
    {
     "data": {
      "image/png": "[encoded data removed]",
      "text/plain": [
       "Console does not support images"
      ]
     },
     "metadata": {
      "image/png": {
       "height": 32,
       "width": 32
      }
     },
     "output_type": "display_data"
    },
    {
     "data": {
      "text/plain": [
       "Got: \tfrog\t\n",
       "Expected: \tfrog\t\n",
       "frog\t33.345483312532\t\n",
       "automobile\t27.011878495729\t\n",
       "cat\t26.452845455721\t\n",
       "dog\t6.8210312577962\t\n",
       "horse\t2.9307502400918\t\n",
       "bird\t2.2381322207708\t\n"
      ]
     },
     "execution_count": 11,
     "metadata": {},
     "output_type": "execute_result"
    },
    {
     "data": {
      "image/png": "[encoded data removed]",
      "text/plain": [
       "Console does not support images"
      ]
     },
     "metadata": {
      "image/png": {
       "height": 32,
       "width": 32
      }
     },
     "output_type": "display_data"
    },
    {
     "data": {
      "text/plain": [
       "Got: \tfrog\t\n",
       "Expected: \tfrog\t\n",
       "frog\t84.468582661743\t\n",
       "dog\t8.2154573816159\t\n",
       "cat\t3.4927961112585\t\n",
       "bird\t2.9292041891654\t\n",
       "deer\t0.76095920194338\t\n",
       "horse\t0.12452439972002\t\n"
      ]
     },
     "execution_count": 11,
     "metadata": {},
     "output_type": "execute_result"
    },
    {
     "data": {
      "image/png": "[encoded data removed]",
      "text/plain": [
       "Console does not support images"
      ]
     },
     "metadata": {
      "image/png": {
       "height": 32,
       "width": 32
      }
     },
     "output_type": "display_data"
    },
    {
     "data": {
      "text/plain": [
       "Got: \tship\t\n",
       "Expected: \tship\t\n",
       "ship\t44.790652893397\t\n",
       "airplane\t34.726175270021\t\n",
       "bird\t13.659350778791\t\n",
       "automobile\t2.2160980479602\t\n",
       "frog\t1.2977626330507\t\n",
       "deer\t1.0424660962116\t\n"
      ]
     },
     "execution_count": 11,
     "metadata": {},
     "output_type": "execute_result"
    },
    {
     "data": {
      "image/png": "[encoded data removed]",
      "text/plain": [
       "Console does not support images"
      ]
     },
     "metadata": {
      "image/png": {
       "height": 32,
       "width": 32
      }
     },
     "output_type": "display_data"
    },
    {
     "data": {
      "text/plain": [
       "Got: \tairplane\t\n",
       "Expected: \tdeer\t\n",
       "airplane\t48.763782087681\t\n",
       "horse\t27.787261750783\t\n",
       "truck\t15.232299204902\t\n",
       "deer\t4.9702725936651\t\n",
       "automobile\t1.9939570099035\t\n",
       "bird\t0.69305523958084\t\n"
      ]
     },
     "execution_count": 11,
     "metadata": {},
     "output_type": "execute_result"
    },
    {
     "data": {
      "image/png": "[encoded data removed]",
      "text/plain": [
       "Console does not support images"
      ]
     },
     "metadata": {
      "image/png": {
       "height": 32,
       "width": 32
      }
     },
     "output_type": "display_data"
    },
    {
     "data": {
      "text/plain": [
       "Got: \tship\t\n",
       "Expected: \tship\t\n",
       "ship\t97.705594426451\t\n",
       "airplane\t1.8487777869079\t\n",
       "bird\t0.22359259406163\t\n",
       "automobile\t0.08307206586529\t\n",
       "truck\t0.063202036627143\t\n",
       "deer\t0.021695757771038\t\n"
      ]
     },
     "execution_count": 11,
     "metadata": {},
     "output_type": "execute_result"
    },
    {
     "data": {
      "image/png": "[encoded data removed]",
      "text/plain": [
       "Console does not support images"
      ]
     },
     "metadata": {
      "image/png": {
       "height": 32,
       "width": 32
      }
     },
     "output_type": "display_data"
    },
    {
     "data": {
      "text/plain": [
       "Got: \tdeer\t\n",
       "Expected: \tdeer\t\n",
       "deer\t36.402877323951\t\n",
       "frog\t21.2701431512\t\n",
       "horse\t17.437006775959\t\n",
       "bird\t13.488217480959\t\n",
       "cat\t5.4751638256155\t\n",
       "dog\t4.474306774688\t\n"
      ]
     },
     "execution_count": 11,
     "metadata": {},
     "output_type": "execute_result"
    },
    {
     "data": {
      "image/png": "[encoded data removed]",
      "text/plain": [
       "Console does not support images"
      ]
     },
     "metadata": {
      "image/png": {
       "height": 32,
       "width": 32
      }
     },
     "output_type": "display_data"
    },
    {
     "data": {
      "text/plain": [
       "Got: \thorse\t\n",
       "Expected: \tdog\t\n",
       "horse\t51.709998846288\t\n",
       "frog\t30.623164918713\t\n",
       "dog\t9.5299832592674\t\n",
       "cat\t6.0606500358164\t\n",
       "truck\t2.0308557461455\t\n",
       "bird\t0.022590805016779\t\n"
      ]
     },
     "execution_count": 11,
     "metadata": {},
     "output_type": "execute_result"
    },
    {
     "data": {
      "image/png": "[encoded data removed]",
      "text/plain": [
       "Console does not support images"
      ]
     },
     "metadata": {
      "image/png": {
       "height": 32,
       "width": 32
      }
     },
     "output_type": "display_data"
    },
    {
     "data": {
      "text/plain": [
       "Got: \tship\t\n",
       "Expected: \tairplane\t\n",
       "ship\t60.76703434224\t\n",
       "horse\t22.714200893604\t\n",
       "airplane\t7.33277534996\t\n",
       "truck\t5.4208472775642\t\n",
       "bird\t1.3171087274296\t\n",
       "deer\t1.0692872894561\t\n"
      ]
     },
     "execution_count": 11,
     "metadata": {},
     "output_type": "execute_result"
    },
    {
     "data": {
      "image/png": "[encoded data removed]",
      "text/plain": [
       "Console does not support images"
      ]
     },
     "metadata": {
      "image/png": {
       "height": 32,
       "width": 32
      }
     },
     "output_type": "display_data"
    },
    {
     "data": {
      "text/plain": [
       "Got: \ttruck\t\n",
       "Expected: \ttruck\t\n",
       "truck\t86.428327902024\t\n",
       "dog\t4.4294061763345\t\n",
       "cat\t4.2038755794146\t\n",
       "automobile\t4.0144240093743\t\n",
       "frog\t0.51960354964671\t\n",
       "ship\t0.20992615800755\t\n"
      ]
     },
     "execution_count": 11,
     "metadata": {},
     "output_type": "execute_result"
    },
    {
     "data": {
      "image/png": "[encoded data removed]",
      "text/plain": [
       "Console does not support images"
      ]
     },
     "metadata": {
      "image/png": {
       "height": 32,
       "width": 32
      }
     },
     "output_type": "display_data"
    },
    {
     "data": {
      "text/plain": [
       "Got: \ttruck\t\n",
       "Expected: \ttruck\t\n",
       "truck\t60.517372289526\t\n",
       "frog\t19.015816653266\t\n",
       "horse\t12.658951568069\t\n",
       "airplane\t6.1712732454082\t\n",
       "cat\t0.85028137346472\t\n",
       "automobile\t0.63911872963521\t\n"
      ]
     },
     "execution_count": 11,
     "metadata": {},
     "output_type": "execute_result"
    },
    {
     "data": {
      "image/png": "[encoded data removed]",
      "text/plain": [
       "Console does not support images"
      ]
     },
     "metadata": {
      "image/png": {
       "height": 32,
       "width": 32
      }
     },
     "output_type": "display_data"
    },
    {
     "data": {
      "text/plain": [
       "Got: \ttruck\t\n",
       "Expected: \ttruck\t\n",
       "truck\t35.676778799671\t\n",
       "automobile\t24.739372311852\t\n"
      ]
     },
     "execution_count": 11,
     "metadata": {},
     "output_type": "execute_result"
    },
    {
     "data": {
      "text/plain": [
       "ship\t16.96332102492\t\n",
       "bird\t7.2478296531011\t\n",
       "deer\t5.4826861301179\t\n",
       "cat\t3.8778165826758\t\n"
      ]
     },
     "execution_count": 11,
     "metadata": {},
     "output_type": "execute_result"
    },
    {
     "data": {
      "image/png": "[encoded data removed]",
      "text/plain": [
       "Console does not support images"
      ]
     },
     "metadata": {
      "image/png": {
       "height": 32,
       "width": 32
      }
     },
     "output_type": "display_data"
    },
    {
     "data": {
      "text/plain": [
       "Got: \tairplane\t\n",
       "Expected: \tship\t\n",
       "airplane\t54.543717033251\t\n",
       "ship\t44.097257913711\t\n",
       "automobile\t0.73113126923155\t\n",
       "bird\t0.29488593951585\t\n",
       "truck\t0.20079085662883\t\n",
       "horse\t0.11663206030908\t\n"
      ]
     },
     "execution_count": 11,
     "metadata": {},
     "output_type": "execute_result"
    },
    {
     "data": {
      "image/png": "[encoded data removed]",
      "text/plain": [
       "Console does not support images"
      ]
     },
     "metadata": {
      "image/png": {
       "height": 32,
       "width": 32
      }
     },
     "output_type": "display_data"
    },
    {
     "data": {
      "text/plain": [
       "Got: \ttruck\t\n",
       "Expected: \ttruck\t\n",
       "truck\t85.470594654068\t\n",
       "automobile\t13.422213054754\t\n",
       "horse\t0.56017871300656\t\n",
       "frog\t0.22329195696361\t\n",
       "deer\t0.19315728377429\t\n",
       "ship\t0.081399004703273\t\n"
      ]
     },
     "execution_count": 11,
     "metadata": {},
     "output_type": "execute_result"
    },
    {
     "data": {
      "image/png": "[encoded data removed]",
      "text/plain": [
       "Console does not support images"
      ]
     },
     "metadata": {
      "image/png": {
       "height": 32,
       "width": 32
      }
     },
     "output_type": "display_data"
    },
    {
     "data": {
      "text/plain": [
       "Got: \ttruck\t\n",
       "Expected: \ttruck\t\n",
       "truck\t97.969483061814\t\n",
       "automobile\t0.91460703156487\t\n",
       "ship\t0.7871869469521\t\n",
       "airplane\t0.27655148839761\t\n",
       "cat\t0.030615283543325\t\n",
       "bird\t0.010281573264675\t\n"
      ]
     },
     "execution_count": 11,
     "metadata": {},
     "output_type": "execute_result"
    },
    {
     "data": {
      "image/png": "[encoded data removed]",
      "text/plain": [
       "Console does not support images"
      ]
     },
     "metadata": {
      "image/png": {
       "height": 32,
       "width": 32
      }
     },
     "output_type": "display_data"
    },
    {
     "data": {
      "text/plain": [
       "Got: \tship\t\n",
       "Expected: \tcat\t\n",
       "ship\t94.163480975426\t\n",
       "truck\t3.0467208960764\t\n",
       "airplane\t1.3144918636306\t\n",
       "bird\t0.66923346750753\t\n",
       "automobile\t0.37783888510879\t\n",
       "frog\t0.22901529258938\t\n"
      ]
     },
     "execution_count": 11,
     "metadata": {},
     "output_type": "execute_result"
    },
    {
     "data": {
      "image/png": "[encoded data removed]",
      "text/plain": [
       "Console does not support images"
      ]
     },
     "metadata": {
      "image/png": {
       "height": 32,
       "width": 32
      }
     },
     "output_type": "display_data"
    },
    {
     "data": {
      "text/plain": [
       "Got: \thorse\t\n",
       "Expected: \thorse\t\n",
       "horse\t93.338791225014\t\n",
       "cat\t2.7394586945192\t\n",
       "truck\t1.7532881144572\t\n",
       "dog\t0.6063975557152\t\n",
       "bird\t0.55832449360059\t\n",
       "deer\t0.48107231704213\t\n"
      ]
     },
     "execution_count": 11,
     "metadata": {},
     "output_type": "execute_result"
    },
    {
     "data": {
      "image/png": "[encoded data removed]",
      "text/plain": [
       "Console does not support images"
      ]
     },
     "metadata": {
      "image/png": {
       "height": 32,
       "width": 32
      }
     },
     "output_type": "display_data"
    },
    {
     "data": {
      "text/plain": [
       "Got: \tdog\t\n",
       "Expected: \tdog\t\n",
       "dog\t55.631095677591\t\n",
       "cat\t33.98251313\t\n",
       "deer\t5.5750522012691\t\n",
       "bird\t2.3160642634853\t\n",
       "airplane\t1.066732198353\t\n",
       "horse\t0.75452724857119\t\n"
      ]
     },
     "execution_count": 11,
     "metadata": {},
     "output_type": "execute_result"
    },
    {
     "data": {
      "image/png": "[encoded data removed]",
      "text/plain": [
       "Console does not support images"
      ]
     },
     "metadata": {
      "image/png": {
       "height": 32,
       "width": 32
      }
     },
     "output_type": "display_data"
    },
    {
     "data": {
      "text/plain": [
       "Got: \tautomobile\t\n",
       "Expected: \tairplane\t\n",
       "automobile\t60.514989220137\t\n",
       "truck\t21.659550496736\t\n",
       "ship\t12.216480218628\t\n",
       "airplane\t5.1745489196831\t\n",
       "horse\t0.28363704958475\t\n",
       "deer\t0.065500918605964\t\n"
      ]
     },
     "execution_count": 11,
     "metadata": {},
     "output_type": "execute_result"
    },
    {
     "data": {
      "image/png": "[encoded data removed]",
      "text/plain": [
       "Console does not support images"
      ]
     },
     "metadata": {
      "image/png": {
       "height": 32,
       "width": 32
      }
     },
     "output_type": "display_data"
    },
    {
     "data": {
      "text/plain": [
       "Got: \tship\t\n",
       "Expected: \tairplane\t\n",
       "ship\t81.455878357544\t\n",
       "airplane\t9.6956356843997\t\n",
       "truck\t4.6530463113712\t\n",
       "frog\t2.9110681686729\t\n",
       "cat\t0.8500763697823\t\n",
       "automobile\t0.35636841002494\t\n"
      ]
     },
     "execution_count": 11,
     "metadata": {},
     "output_type": "execute_result"
    },
    {
     "data": {
      "image/png": "[encoded data removed]",
      "text/plain": [
       "Console does not support images"
      ]
     },
     "metadata": {
      "image/png": {
       "height": 32,
       "width": 32
      }
     },
     "output_type": "display_data"
    },
    {
     "data": {
      "text/plain": [
       "Got: \tdog\t\n",
       "Expected: \tdog\t\n",
       "dog\t58.15998592828\t\n",
       "horse\t25.067682646872\t\n",
       "cat\t16.455315742949\t\n",
       "bird\t0.12961484824483\t\n",
       "truck\t0.10068773737654\t\n",
       "frog\t0.036644424357926\t\n"
      ]
     },
     "execution_count": 11,
     "metadata": {},
     "output_type": "execute_result"
    },
    {
     "data": {
      "image/png": "[encoded data removed]",
      "text/plain": [
       "Console does not support images"
      ]
     },
     "metadata": {
      "image/png": {
       "height": 32,
       "width": 32
      }
     },
     "output_type": "display_data"
    },
    {
     "data": {
      "text/plain": [
       "Got: \tfrog\t\n",
       "Expected: \tbird\t\n",
       "frog\t95.476327120415\t\n",
       "deer\t2.1263480375285\t\n",
       "cat\t1.2260283507732\t\n",
       "horse\t0.63869104825465\t\n",
       "dog\t0.40448087643411\t\n",
       "bird\t0.11276046012689\t\n"
      ]
     },
     "execution_count": 11,
     "metadata": {},
     "output_type": "execute_result"
    },
    {
     "data": {
      "image/png": "[encoded data removed]",
      "text/plain": [
       "Console does not support images"
      ]
     },
     "metadata": {
      "image/png": {
       "height": 32,
       "width": 32
      }
     },
     "output_type": "display_data"
    },
    {
     "data": {
      "text/plain": [
       "Got: \tcat\t\n",
       "Expected: \tbird\t\n",
       "cat\t38.117132172871\t\n",
       "bird\t25.171601927924\t\n",
       "dog\t16.405141413182\t\n",
       "frog\t6.766515396455\t\n",
       "deer\t6.3003508354195\t\n",
       "ship\t5.4507476618982\t\n"
      ]
     },
     "execution_count": 11,
     "metadata": {},
     "output_type": "execute_result"
    },
    {
     "data": {
      "image/png": "[encoded data removed]",
      "text/plain": [
       "Console does not support images"
      ]
     },
     "metadata": {
      "image/png": {
       "height": 32,
       "width": 32
      }
     },
     "output_type": "display_data"
    },
    {
     "data": {
      "text/plain": [
       "Got: \thorse\t\n",
       "Expected: \tcat\t\n",
       "horse\t88.851051653124\t\n",
       "dog\t5.5506959647396\t\n",
       "frog\t1.9389116323689\t\n",
       "deer\t1.7346252918924\t\n",
       "cat\t1.2701481297567\t\n",
       "bird\t0.51720818649226\t\n"
      ]
     },
     "execution_count": 11,
     "metadata": {},
     "output_type": "execute_result"
    },
    {
     "data": {
      "image/png": "[encoded data removed]",
      "text/plain": [
       "Console does not support images"
      ]
     },
     "metadata": {
      "image/png": {
       "height": 32,
       "width": 32
      }
     },
     "output_type": "display_data"
    },
    {
     "data": {
      "text/plain": [
       "Got: \tship\t\n",
       "Expected: \tship\t\n",
       "ship\t81.238324109598\t\n",
       "airplane\t18.074879085434\t\n",
       "bird\t0.31176454021447\t\n",
       "horse\t0.1578001030953\t\n",
       "deer\t0.10514614317025\t\n",
       "truck\t0.083164455258282\t\n"
      ]
     },
     "execution_count": 11,
     "metadata": {},
     "output_type": "execute_result"
    },
    {
     "data": {
      "image/png": "[encoded data removed]",
      "text/plain": [
       "Console does not support images"
      ]
     },
     "metadata": {
      "image/png": {
       "height": 32,
       "width": 32
      }
     },
     "output_type": "display_data"
    },
    {
     "data": {
      "text/plain": [
       "Got: \tcat\t\n",
       "Expected: \tfrog\t\n",
       "cat\t27.039053168009\t\n",
       "frog\t24.718778241881\t\n",
       "deer\t21.056738990237\t\n",
       "bird\t14.988454814935\t\n",
       "dog\t9.6244100824796\t\n",
       "ship\t1.7500109401347\t\n"
      ]
     },
     "execution_count": 11,
     "metadata": {},
     "output_type": "execute_result"
    },
    {
     "data": {
      "image/png": "[encoded data removed]",
      "text/plain": [
       "Console does not support images"
      ]
     },
     "metadata": {
      "image/png": {
       "height": 32,
       "width": 32
      }
     },
     "output_type": "display_data"
    },
    {
     "data": {
      "text/plain": [
       "Got: \tcat\t\n",
       "Expected: \tcat\t\n",
       "cat\t50.222458141933\t\n",
       "bird\t14.749340390646\t\n",
       "dog\t14.312869378043\t\n",
       "frog\t5.7479317870214\t\n",
       "airplane\t3.5604425314282\t\n",
       "horse\t3.4403025784751\t\n"
      ]
     },
     "execution_count": 11,
     "metadata": {},
     "output_type": "execute_result"
    },
    {
     "data": {
      "image/png": "[encoded data removed]",
      "text/plain": [
       "Console does not support images"
      ]
     },
     "metadata": {
      "image/png": {
       "height": 32,
       "width": 32
      }
     },
     "output_type": "display_data"
    },
    {
     "data": {
      "text/plain": [
       "Got: \thorse\t\n",
       "Expected: \tdeer\t\n",
       "horse\t87.212879510095\t\n",
       "cat\t7.2301926354292\t\n",
       "dog\t2.5864046611156\t\n",
       "truck\t1.3924048558444\t\n",
       "bird\t1.2847247115099\t\n",
       "airplane\t0.15454604443785\t\n"
      ]
     },
     "execution_count": 11,
     "metadata": {},
     "output_type": "execute_result"
    },
    {
     "data": {
      "image/png": "[encoded data removed]",
      "text/plain": [
       "Console does not support images"
      ]
     },
     "metadata": {
      "image/png": {
       "height": 32,
       "width": 32
      }
     },
     "output_type": "display_data"
    },
    {
     "data": {
      "text/plain": [
       "Got: \tship\t\n",
       "Expected: \tairplane\t\n",
       "ship\t99.728945268239\t\n",
       "airplane\t0.25145683810946\t\n",
       "automobile\t0.010794757632051\t\n",
       "truck\t0.0057215976398757\t\n",
       "bird\t9.9914514658227e-06\t\n",
       "horse\t1.0340262094429e-08\t\n"
      ]
     },
     "execution_count": 11,
     "metadata": {},
     "output_type": "execute_result"
    },
    {
     "data": {
      "image/png": "[encoded data removed]",
      "text/plain": [
       "Console does not support images"
      ]
     },
     "metadata": {
      "image/png": {
       "height": 32,
       "width": 32
      }
     },
     "output_type": "display_data"
    },
    {
     "data": {
      "text/plain": [
       "Got: \tfrog\t\n",
       "Expected: \tdog\t\n",
       "frog\t30.33933319892\t\n",
       "dog\t29.565159710529\t\n",
       "horse\t17.226486396913\t\n",
       "deer\t15.322411476396\t\n",
       "bird\t6.0992662220804\t\n",
       "cat\t1.326814943241\t\n"
      ]
     },
     "execution_count": 11,
     "metadata": {},
     "output_type": "execute_result"
    },
    {
     "data": {
      "image/png": "[encoded data removed]",
      "text/plain": [
       "Console does not support images"
      ]
     },
     "metadata": {
      "image/png": {
       "height": 32,
       "width": 32
      }
     },
     "output_type": "display_data"
    },
    {
     "data": {
      "text/plain": [
       "Got: \tautomobile\t\n",
       "Expected: \tship\t\n",
       "automobile\t64.381556688041\t\n",
       "truck\t20.669239315888\t\n",
       "cat\t6.9412196255654\t\n",
       "airplane\t4.081542135613\t\n",
       "ship\t1.507759264906\t\n",
       "dog\t1.4144264230569\t\n"
      ]
     },
     "execution_count": 11,
     "metadata": {},
     "output_type": "execute_result"
    },
    {
     "data": {
      "image/png": "[encoded data removed]",
      "text/plain": [
       "Console does not support images"
      ]
     },
     "metadata": {
      "image/png": {
       "height": 32,
       "width": 32
      }
     },
     "output_type": "display_data"
    },
    {
     "data": {
      "text/plain": [
       "Got: \tship\t\n",
       "Expected: \tairplane\t\n",
       "ship\t68.757800879075\t\n",
       "truck\t11.606573622549\t\n",
       "airplane\t9.6902280926036\t\n",
       "automobile\t9.61192806765\t\n"
      ]
     },
     "execution_count": 11,
     "metadata": {},
     "output_type": "execute_result"
    },
    {
     "data": {
      "text/plain": [
       "horse\t0.2188785453921\t\n",
       "deer\t0.060804450541208\t\n"
      ]
     },
     "execution_count": 11,
     "metadata": {},
     "output_type": "execute_result"
    },
    {
     "data": {
      "image/png": "[encoded data removed]",
      "text/plain": [
       "Console does not support images"
      ]
     },
     "metadata": {
      "image/png": {
       "height": 32,
       "width": 32
      }
     },
     "output_type": "display_data"
    },
    {
     "data": {
      "text/plain": [
       "Got: \tautomobile\t\n",
       "Expected: \tautomobile\t\n",
       "automobile\t92.050046194438\t\n",
       "frog\t3.1186079563677\t\n",
       "airplane\t2.4010513153689\t\n",
       "horse\t0.87707797914869\t\n",
       "truck\t0.32088761488696\t\n",
       "bird\t0.3167854395907\t\n"
      ]
     },
     "execution_count": 11,
     "metadata": {},
     "output_type": "execute_result"
    },
    {
     "data": {
      "image/png": "[encoded data removed]",
      "text/plain": [
       "Console does not support images"
      ]
     },
     "metadata": {
      "image/png": {
       "height": 32,
       "width": 32
      }
     },
     "output_type": "display_data"
    },
    {
     "data": {
      "text/plain": [
       "Got: \thorse\t\n",
       "Expected: \thorse\t\n",
       "horse\t71.194727018641\t\n",
       "cat\t6.9138616037022\t\n",
       "deer\t6.429453661598\t\n",
       "bird\t6.2375173312256\t\n",
       "dog\t4.9450515317147\t\n",
       "frog\t2.0663674698856\t\n"
      ]
     },
     "execution_count": 11,
     "metadata": {},
     "output_type": "execute_result"
    },
    {
     "data": {
      "image/png": "[encoded data removed]",
      "text/plain": [
       "Console does not support images"
      ]
     },
     "metadata": {
      "image/png": {
       "height": 32,
       "width": 32
      }
     },
     "output_type": "display_data"
    },
    {
     "data": {
      "text/plain": [
       "Got: \tcat\t\n",
       "Expected: \tbird\t\n",
       "cat\t34.182950623556\t\n",
       "dog\t26.756846977514\t\n",
       "deer\t15.368365488506\t\n",
       "frog\t14.474055111322\t\n",
       "bird\t4.6837530820917\t\n",
       "horse\t2.5489912204439\t\n"
      ]
     },
     "execution_count": 11,
     "metadata": {},
     "output_type": "execute_result"
    },
    {
     "data": {
      "image/png": "[encoded data removed]",
      "text/plain": [
       "Console does not support images"
      ]
     },
     "metadata": {
      "image/png": {
       "height": 32,
       "width": 32
      }
     },
     "output_type": "display_data"
    },
    {
     "data": {
      "text/plain": [
       "Got: \ttruck\t\n",
       "Expected: \tship\t\n",
       "truck\t46.196879382903\t\n",
       "ship\t43.579133750151\t\n",
       "cat\t5.9099330391961\t\n",
       "automobile\t3.128362875719\t\n",
       "dog\t0.69418365738342\t\n",
       "frog\t0.35615929197094\t\n"
      ]
     },
     "execution_count": 11,
     "metadata": {},
     "output_type": "execute_result"
    },
    {
     "data": {
      "image/png": "[encoded data removed]",
      "text/plain": [
       "Console does not support images"
      ]
     },
     "metadata": {
      "image/png": {
       "height": 32,
       "width": 32
      }
     },
     "output_type": "display_data"
    },
    {
     "data": {
      "text/plain": [
       "Got: \tship\t\n",
       "Expected: \tship\t\n",
       "ship\t94.134855134039\t\n",
       "deer\t1.5340678885081\t\n",
       "truck\t1.2825693298862\t\n",
       "bird\t1.2817242889313\t\n",
       "airplane\t0.91725590816911\t\n",
       "cat\t0.39201665036633\t\n"
      ]
     },
     "execution_count": 11,
     "metadata": {},
     "output_type": "execute_result"
    },
    {
     "data": {
      "image/png": "[encoded data removed]",
      "text/plain": [
       "Console does not support images"
      ]
     },
     "metadata": {
      "image/png": {
       "height": 32,
       "width": 32
      }
     },
     "output_type": "display_data"
    },
    {
     "data": {
      "text/plain": [
       "Got: \thorse\t\n",
       "Expected: \thorse\t\n",
       "horse\t81.920026524126\t\n",
       "dog\t12.501524233049\t\n",
       "cat\t2.9598792327449\t\n",
       "bird\t1.6145894282694\t\n",
       "frog\t0.78180209595284\t\n",
       "deer\t0.19475760748526\t\n"
      ]
     },
     "execution_count": 11,
     "metadata": {},
     "output_type": "execute_result"
    },
    {
     "data": {
      "image/png": "[encoded data removed]",
      "text/plain": [
       "Console does not support images"
      ]
     },
     "metadata": {
      "image/png": {
       "height": 32,
       "width": 32
      }
     },
     "output_type": "display_data"
    },
    {
     "data": {
      "text/plain": [
       "Got: \tcat\t\n",
       "Expected: \tship\t\n",
       "cat\t24.07574713188\t\n",
       "ship\t22.417161222937\t\n",
       "automobile\t13.132078163006\t\n",
       "deer\t11.979646519019\t\n",
       "airplane\t10.180704620109\t\n",
       "dog\t7.7931499429033\t\n"
      ]
     },
     "execution_count": 11,
     "metadata": {},
     "output_type": "execute_result"
    }
   ],
   "source": [
    "for j=100,200 do\n",
    "    local theimage = testset.data[j]\n",
    "    \n",
    "    itorch.image(theimage)\n",
    "    local groundtruth = testset.label[j]\n",
    "    local prediction = net:forward(testset.data[j])\n",
    "    local pred = prediction:exp()\n",
    "\n",
    "    local confidences, indices = torch.sort(prediction, true)  -- true means sort in descending order\n",
    "    print(\"Got: \", classes[indices[1]])\n",
    "    print(\"Expected: \", classes[groundtruth])\n",
    "--    if groundtruth == indices[1] then\n",
    "--        correct = correct + 1\n",
    "--    end\n",
    "    for i=1,6 do\n",
    "        print(classes[indices[i]], confidences[i] * 100)\n",
    "    end\n",
    "end"
   ]
  },
  {
   "cell_type": "code",
   "execution_count": null,
   "metadata": {
    "collapsed": true
   },
   "outputs": [],
   "source": []
  }
 ],
 "metadata": {
  "kernelspec": {
   "display_name": "iTorch",
   "language": "lua",
   "name": "itorch"
  },
  "language_info": {
   "name": "lua",
   "version": "20100"
  }
 },
 "nbformat": 4,
 "nbformat_minor": 0
}
